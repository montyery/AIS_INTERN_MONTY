{
 "cells": [
  {
   "cell_type": "markdown",
   "id": "1295e746-db89-4d78-b067-fd2d134a9d6c",
   "metadata": {},
   "source": [
    "#for loop"
   ]
  },
  {
   "cell_type": "markdown",
   "id": "39066b8e-f212-4c46-8428-30aab3c64804",
   "metadata": {},
   "source": [
    "1)print odd value between 20 and 80, without using if. Using for loop only"
   ]
  },
  {
   "cell_type": "code",
   "execution_count": 6,
   "id": "66e62c69-9387-4133-ada1-e7575bb4eeae",
   "metadata": {},
   "outputs": [
    {
     "name": "stdout",
     "output_type": "stream",
     "text": [
      "21\n",
      "23\n",
      "25\n",
      "27\n",
      "29\n",
      "31\n",
      "33\n",
      "35\n",
      "37\n",
      "39\n",
      "41\n",
      "43\n",
      "45\n",
      "47\n",
      "49\n",
      "51\n",
      "53\n",
      "55\n",
      "57\n",
      "59\n",
      "61\n",
      "63\n",
      "65\n",
      "67\n",
      "69\n",
      "71\n",
      "73\n",
      "75\n",
      "77\n",
      "79\n"
     ]
    }
   ],
   "source": [
    "for i in range (21,80,2):\n",
    "    \n",
    "    print(i)"
   ]
  },
  {
   "cell_type": "markdown",
   "id": "144c807e-0ce8-4e3f-89ad-f538c957693f",
   "metadata": {},
   "source": [
    "2) creat a list of 1 to 20 number using for loop [1,2,3..20]"
   ]
  },
  {
   "cell_type": "code",
   "execution_count": 8,
   "id": "5040b844-5fe3-4a4c-a935-e62c767aa601",
   "metadata": {},
   "outputs": [
    {
     "name": "stdout",
     "output_type": "stream",
     "text": [
      "[1, 2, 3, 4, 5, 6, 7, 8, 9, 10, 11, 12, 13, 14, 15, 16, 17, 18, 19, 20]\n"
     ]
    }
   ],
   "source": [
    "num=[]\n",
    "for i in range(1,21):\n",
    "    num.append(i)\n",
    "print(num)"
   ]
  },
  {
   "cell_type": "markdown",
   "id": "58ebf84f-9cb5-4352-b56f-9024a0bc22eb",
   "metadata": {},
   "source": [
    "3)create a  list of 20 to 1 value using  for loop (dont Use Reverse)"
   ]
  },
  {
   "cell_type": "code",
   "execution_count": 14,
   "id": "41dd786e-3f96-4d7b-8409-ae27ee3cee40",
   "metadata": {},
   "outputs": [
    {
     "name": "stdout",
     "output_type": "stream",
     "text": [
      "[20, 19, 18, 17, 16, 15, 14, 13, 12, 11, 10, 9, 8, 7, 6, 5, 4, 3, 2, 1]\n"
     ]
    }
   ],
   "source": [
    "\n",
    "num=[]\n",
    "for i in range(20,0,-1):\n",
    "    num.append(i)\n",
    "print(num)"
   ]
  },
  {
   "cell_type": "markdown",
   "id": "f0953d40-9e1e-49ff-931a-052bbb384345",
   "metadata": {},
   "source": [
    "4)take Cube of odd values between 20 to 40"
   ]
  },
  {
   "cell_type": "code",
   "execution_count": 19,
   "id": "38f48fb7-5724-476d-acf0-584a538d649a",
   "metadata": {},
   "outputs": [
    {
     "name": "stdout",
     "output_type": "stream",
     "text": [
      "9261\n",
      "12167\n",
      "15625\n",
      "19683\n",
      "24389\n",
      "29791\n",
      "35937\n",
      "42875\n",
      "50653\n",
      "59319\n"
     ]
    }
   ],
   "source": [
    "for i in range(21,40,2):\n",
    "    print(i*i*i)"
   ]
  },
  {
   "cell_type": "markdown",
   "id": "197802e9-a9e5-4270-a6e8-8446aba5ac6f",
   "metadata": {},
   "source": [
    "#5) take 5 freinds name in list name\n",
    "take corresponding ages in second list age "
   ]
  },
  {
   "cell_type": "code",
   "execution_count": 27,
   "id": "800bec8e-66e1-4574-a32c-150a7f5d1ddc",
   "metadata": {},
   "outputs": [
    {
     "name": "stdout",
     "output_type": "stream",
     "text": [
      "my name is a and age is20\n",
      "my name is b and age is21\n",
      "my name is c and age is23\n",
      "my name is d and age is25\n",
      "my name is e and age is24\n"
     ]
    }
   ],
   "source": [
    "name=[\"a\",\"b\",\"c\",\"d\",\"e\"]\n",
    "age = [20,21,23,25,24]\n",
    "print(f\"my name is {name[0]} and age is{age[0]}\"  )\n",
    "print(f\"my name is {name[1]} and age is{age[1]}\"  )\n",
    "print(f\"my name is {name[2]} and age is{age[2]}\"  )\n",
    "print(f\"my name is {name[3]} and age is{age[3]}\"  )\n",
    "print(f\"my name is {name[4]} and age is{age[4]}\"  )"
   ]
  },
  {
   "cell_type": "code",
   "execution_count": null,
   "id": "f70fccf4-ea91-42b2-97d1-6ad6cc2d8de7",
   "metadata": {},
   "outputs": [],
   "source": []
  }
 ],
 "metadata": {
  "kernelspec": {
   "display_name": "Python 3 (ipykernel)",
   "language": "python",
   "name": "python3"
  },
  "language_info": {
   "codemirror_mode": {
    "name": "ipython",
    "version": 3
   },
   "file_extension": ".py",
   "mimetype": "text/x-python",
   "name": "python",
   "nbconvert_exporter": "python",
   "pygments_lexer": "ipython3",
   "version": "3.12.7"
  }
 },
 "nbformat": 4,
 "nbformat_minor": 5
}
