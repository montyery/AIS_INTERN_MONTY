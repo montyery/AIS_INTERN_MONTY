{
 "cells": [
  {
   "cell_type": "markdown",
   "id": "36be891a-9725-4e05-bce1-ae0d40df8922",
   "metadata": {},
   "source": [
    "# Random Number Generation"
   ]
  },
  {
   "cell_type": "markdown",
   "id": "2f87cec1-ba2e-441f-bc48-82b76a9cbaf7",
   "metadata": {},
   "source": [
    "#### np.random"
   ]
  },
  {
   "cell_type": "code",
   "execution_count": 1,
   "id": "b94279b9-7933-4435-bcaf-483e3d84d7cf",
   "metadata": {},
   "outputs": [
    {
     "name": "stdout",
     "output_type": "stream",
     "text": [
      "1D Array filled with random values : [0.08388323 0.37459841 0.00345348 0.72866317 0.47407773]\n"
     ]
    }
   ],
   "source": [
    "import numpy as red\n",
    "\n",
    "# 1D Array \n",
    "array = red.random.rand(5) # np.randomm.rand\n",
    "print(\"1D Array filled with random values :\", array);\n"
   ]
  },
  {
   "cell_type": "code",
   "execution_count": 3,
   "id": "bc9a09ee-c094-4269-b182-dfa85b5ba4fc",
   "metadata": {},
   "outputs": [
    {
     "name": "stdout",
     "output_type": "stream",
     "text": [
      "Output 2D Array filled with random integers :  [[1 2 0]\n",
      " [1 2 0]]\n"
     ]
    }
   ],
   "source": [
    " \n",
    "import numpy as blue  \n",
    " \n",
    "out_arr = blue.random.randint(low = 4, size =(2, 3)) # np.random.randint\n",
    "print (\"Output 2D Array filled with random integers : \", out_arr) \n"
   ]
  },
  {
   "cell_type": "markdown",
   "id": "6b3ac1d9-eb43-4256-bd7c-79474fc0834f",
   "metadata": {},
   "source": [
    "  #### Seeding Random Number generation"
   ]
  },
  {
   "cell_type": "code",
   "execution_count": 11,
   "id": "f03eafb7-bdba-4812-97a0-1ef06ee56051",
   "metadata": {},
   "outputs": [
    {
     "name": "stdout",
     "output_type": "stream",
     "text": [
      "0.5714025946899135\n",
      "0.815705808134858\n",
      "0.20259898856134773\n"
     ]
    }
   ],
   "source": [
    "import random\n",
    "\n",
    "\n",
    "random.seed(10) # np.random.seed\n",
    "print(random.random())  \n",
    "\n",
    "\n",
    "random.seed(\"example\")\n",
    "print(random.random())  \n",
    "\n",
    "\n",
    "print(random.random()) 0))"
   ]
  },
  {
   "cell_type": "code",
   "execution_count": 13,
   "id": "163350c2-0f2a-42a5-bda2-ab0357cf6886",
   "metadata": {},
   "outputs": [
    {
     "name": "stdout",
     "output_type": "stream",
     "text": [
      "[4 2 3 6 5 1 0 7 9 8]\n"
     ]
    }
   ],
   "source": [
    "\n",
    "import numpy as np \n",
    "import matplotlib.pyplot as plt \n",
    "\n",
    "gfg = np.arange(10) \n",
    "\n",
    "np.random.shuffle(gfg) # random shuffle \n",
    "\n",
    "print(gfg)\n"
   ]
  },
  {
   "cell_type": "code",
   "execution_count": 15,
   "id": "274908e9-06e1-4905-bc03-a8e309ac5f92",
   "metadata": {},
   "outputs": [
    {
     "data": {
      "image/png": "[encoded data removed]",
      "text/plain": [
       "<Figure size 640x480 with 1 Axes>"
      ]
     },
     "metadata": {},
     "output_type": "display_data"
    }
   ],
   "source": [
    "\n",
    "import numpy as np \n",
    "import matplotlib.pyplot as plt \n",
    "\n",
    "\n",
    "gfg = np.random.permutation(200) \n",
    "\n",
    "count, bins, ignored = plt.hist(gfg, 14, density = True) \n",
    "plt.show()\n"
   ]
  },
  {
   "cell_type": "code",
   "execution_count": null,
   "id": "ed481c74-9b17-49ef-80c0-af3f7cc513dd",
   "metadata": {},
   "outputs": [],
   "source": []
  }
 ],
 "metadata": {
  "kernelspec": {
   "display_name": "Python 3 (ipykernel)",
   "language": "python",
   "name": "python3"
  },
  "language_info": {
   "codemirror_mode": {
    "name": "ipython",
    "version": 3
   },
   "file_extension": ".py",
   "mimetype": "text/x-python",
   "name": "python",
   "nbconvert_exporter": "python",
   "pygments_lexer": "ipython3",
   "version": "3.12.0b4"
  }
 },
 "nbformat": 4,
 "nbformat_minor": 5
}
