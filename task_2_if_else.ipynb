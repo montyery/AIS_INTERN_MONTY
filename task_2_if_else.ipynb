{
 "cells": [
  {
   "cell_type": "markdown",
   "id": "6053654b-8161-4bf4-9c75-76d667207597",
   "metadata": {},
   "source": [
    "#if else"
   ]
  },
  {
   "cell_type": "code",
   "execution_count": 6,
   "id": "2f09d0db-c080-4a03-8a70-33fbc83a2053",
   "metadata": {},
   "outputs": [
    {
     "name": "stdin",
     "output_type": "stream",
     "text": [
      "enter a no 2\n"
     ]
    },
    {
     "name": "stdout",
     "output_type": "stream",
     "text": [
      "no is +ve\n"
     ]
    }
   ],
   "source": [
    "num=int(input(\"enter a no\"))\n",
    "\n",
    "if num > 0 :\n",
    "    print(\"no is +ve\")\n",
    "else :\n",
    "    print(\"no is -ve\")\n",
    "\n"
   ]
  },
  {
   "cell_type": "code",
   "execution_count": 8,
   "id": "4bf39079-fdd9-422c-bda0-5d65dcf0bbfe",
   "metadata": {},
   "outputs": [
    {
     "name": "stdin",
     "output_type": "stream",
     "text": [
      "enter a no 3\n"
     ]
    },
    {
     "name": "stdout",
     "output_type": "stream",
     "text": [
      "no is odd\n"
     ]
    }
   ],
   "source": [
    "num=int(input(\"enter a no\"))\n",
    "if num%2==0:\n",
    "    print(\"no is even\")\n",
    "else:\n",
    "    print(\"no is odd\")"
   ]
  },
  {
   "cell_type": "code",
   "execution_count": null,
   "id": "4014c0d3-35c0-434a-b833-ddda0795d655",
   "metadata": {},
   "outputs": [],
   "source": []
  },
  {
   "cell_type": "code",
   "execution_count": null,
   "id": "bab7c3c0-515a-4a4c-bc74-d744c1e62069",
   "metadata": {},
   "outputs": [],
   "source": [
    "print(\"Welcome to the rollercoaster!\")\n",
    "height = int(input(\"What is your height in cm? \"))\n",
    "\n",
    "if height >=120:\n",
    "    print(\"can sit in ride\")\n",
    "else:\n",
    "    print(\"sorry not allowed\")"
   ]
  },
  {
   "cell_type": "code",
   "execution_count": 10,
   "id": "152ab385-bb06-4129-9df1-eee03dd89c7d",
   "metadata": {},
   "outputs": [
    {
     "name": "stdout",
     "output_type": "stream",
     "text": [
      "x is greater than 5\n"
     ]
    }
   ],
   "source": [
    "x = 10\n",
    "\n",
    "if x > 5:\n",
    "    print(\"x is greater than 5\")\n",
    "else:\n",
    "    print(\"x is 5 or less\")"
   ]
  },
  {
   "cell_type": "code",
   "execution_count": 12,
   "id": "5aa0cd0d-bb8c-404c-bb5a-0ed5b2ade98d",
   "metadata": {},
   "outputs": [
    {
     "name": "stdin",
     "output_type": "stream",
     "text": [
      "enter ur age 3\n"
     ]
    },
    {
     "name": "stdout",
     "output_type": "stream",
     "text": [
      "you are not eligible to vote\n"
     ]
    }
   ],
   "source": [
    "age=int(input(\"enter ur age\"))\n",
    "if age>=18:\n",
    "    print(\"you r eligible to vote\")\n",
    "else:\n",
    "    print(\"you are not eligible to vote\")"
   ]
  },
  {
   "cell_type": "code",
   "execution_count": null,
   "id": "a84d104d-1d3d-4882-97d1-76dfb6191cdd",
   "metadata": {},
   "outputs": [],
   "source": []
  }
 ],
 "metadata": {
  "kernelspec": {
   "display_name": "Python 3 (ipykernel)",
   "language": "python",
   "name": "python3"
  },
  "language_info": {
   "codemirror_mode": {
    "name": "ipython",
    "version": 3
   },
   "file_extension": ".py",
   "mimetype": "text/x-python",
   "name": "python",
   "nbconvert_exporter": "python",
   "pygments_lexer": "ipython3",
   "version": "3.12.7"
  }
 },
 "nbformat": 4,
 "nbformat_minor": 5
}
