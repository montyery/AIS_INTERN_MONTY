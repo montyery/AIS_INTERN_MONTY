{
 "cells": [
  {
   "cell_type": "markdown",
   "id": "1a399e79-1199-4966-a151-c4eab4e7cd37",
   "metadata": {},
   "source": [
    "While Loop\n",
    "\n",
    "#1)odd-even using while loop "
   ]
  },
  {
   "cell_type": "code",
   "execution_count": 1,
   "id": "efb0f4d6-e555-45cf-81de-d4f25109ae66",
   "metadata": {},
   "outputs": [
    {
     "name": "stdout",
     "output_type": "stream",
     "text": [
      "the even no are 0\n",
      "the even no are 2\n",
      "the even no are 4\n",
      "the even no are 6\n",
      "the even no are 8\n",
      "the even no are 10\n",
      "the even no are 12\n",
      "the even no are 14\n",
      "the even no are 16\n",
      "the even no are 18\n",
      "the even no are 20\n"
     ]
    }
   ],
   "source": [
    "num=0\n",
    "while num <= 20:\n",
    "   \n",
    "    if num % 2 == 0:\n",
    "        print(\"the even no are\",num)\n",
    "    num += 1"
   ]
  },
  {
   "cell_type": "code",
   "execution_count": 3,
   "id": "e3398770-40f8-4576-a691-fda9db2f5982",
   "metadata": {},
   "outputs": [
    {
     "name": "stdout",
     "output_type": "stream",
     "text": [
      "the odd no are 1\n",
      "the odd no are 3\n",
      "the odd no are 5\n",
      "the odd no are 7\n",
      "the odd no are 9\n",
      "the odd no are 11\n",
      "the odd no are 13\n",
      "the odd no are 15\n",
      "the odd no are 17\n",
      "the odd no are 19\n"
     ]
    }
   ],
   "source": [
    "num=0\n",
    "while num <= 20:\n",
    "    if num % 2 == 1:\n",
    "        print(\"the odd no are\",num)\n",
    "    num += 1"
   ]
  },
  {
   "cell_type": "markdown",
   "id": "b5c0da24-2f09-4a5d-ae76-233cc0c6de57",
   "metadata": {},
   "source": [
    "#using while\n",
    "* \n",
    "* *\n",
    "* * *\n",
    "* * * *\n",
    "* * * * *"
   ]
  },
  {
   "cell_type": "code",
   "execution_count": 1,
   "id": "cfd5baca-0cd4-4ead-a057-9f9b3f13fd16",
   "metadata": {},
   "outputs": [
    {
     "name": "stdout",
     "output_type": "stream",
     "text": [
      "#\n",
      "##\n",
      "###\n",
      "####\n",
      "#####\n"
     ]
    }
   ],
   "source": [
    "n=5\n",
    "for i in range (n):\n",
    "    for j in range (i+1):\n",
    "        print(\"#\",end=\"\")\n",
    "    print()"
   ]
  },
  {
   "cell_type": "code",
   "execution_count": null,
   "id": "77cc0def-84d9-4f61-9dc5-cae0b8599b1d",
   "metadata": {},
   "outputs": [],
   "source": [
    "i = 1\n",
    "n=5\n",
    "while i <= n:\n",
    "    j = 1\n",
    "    while j <= i:\n",
    "        print(\"*\", end=\"\")\n",
    "        j += 1\n",
    "    print()\n",
    "\n",
    "    i += 1"
   ]
  },
  {
   "cell_type": "markdown",
   "id": "1f29bca6-4760-4a01-8343-dc076f52fc7a",
   "metadata": {},
   "source": [
    "#3) creat list 1-20 numbers list using while loop=> [1,2,3... 20]"
   ]
  },
  {
   "cell_type": "code",
   "execution_count": null,
   "id": "41f56a3a-7ce6-478e-a948-7cd6fc466c70",
   "metadata": {},
   "outputs": [],
   "source": [
    "num=[]\n",
    "i=1\n",
    "while i<=20:\n",
    "    num.append(i)\n",
    "    i +=1\n",
    "print(num)"
   ]
  },
  {
   "cell_type": "markdown",
   "id": "33c83c88-62b5-447c-a251-84b3178eea99",
   "metadata": {},
   "source": [
    "#4)  creat list 20-1 (revers order) using while loop=> [20,19...1]"
   ]
  },
  {
   "cell_type": "code",
   "execution_count": null,
   "id": "f3cf941e-d5c1-4868-9a27-c094229d9611",
   "metadata": {},
   "outputs": [],
   "source": [
    "num=[]\n",
    "i=20\n",
    "while i>=1:\n",
    "    num.append(i)\n",
    "    i -=1\n",
    "print(num)\n"
   ]
  },
  {
   "cell_type": "markdown",
   "id": "6f444cfb-4d16-479a-a14d-5451a657a389",
   "metadata": {},
   "source": [
    "#5) try with one any eg. break, contnue , pass control statement\n"
   ]
  },
  {
   "cell_type": "code",
   "execution_count": 1,
   "id": "6ed30c8d-9f43-4601-b2c9-4b386acbdfd5",
   "metadata": {},
   "outputs": [
    {
     "name": "stdout",
     "output_type": "stream",
     "text": [
      "0\n",
      "1\n",
      "2\n",
      "3\n",
      "4\n",
      "1\n",
      "3\n",
      "5\n",
      "7\n",
      "9\n",
      "0\n",
      "1\n",
      "2\n",
      "3\n",
      "4\n",
      "5\n",
      "6\n",
      "7\n",
      "8\n",
      "9\n"
     ]
    }
   ],
   "source": [
    "for i in range(10):\n",
    "    if i == 5:\n",
    "        break  \n",
    "    print(i)\n",
    "\n",
    "# continue statement\n",
    "for i in range(10):\n",
    "    if i % 2 == 0:\n",
    "        continue\n",
    "    print(i)\n",
    "\n",
    "# pass statement\n",
    "for i in range(10):\n",
    "    if i == 3:\n",
    "        pass  \n",
    "    print(i)"
   ]
  },
  {
   "cell_type": "code",
   "execution_count": null,
   "id": "62be65c5-a918-4439-8896-18224cb9ed78",
   "metadata": {},
   "outputs": [],
   "source": []
  }
 ],
 "metadata": {
  "kernelspec": {
   "display_name": "Python 3 (ipykernel)",
   "language": "python",
   "name": "python3"
  },
  "language_info": {
   "codemirror_mode": {
    "name": "ipython",
    "version": 3
   },
   "file_extension": ".py",
   "mimetype": "text/x-python",
   "name": "python",
   "nbconvert_exporter": "python",
   "pygments_lexer": "ipython3",
   "version": "3.12.7"
  }
 },
 "nbformat": 4,
 "nbformat_minor": 5
}
