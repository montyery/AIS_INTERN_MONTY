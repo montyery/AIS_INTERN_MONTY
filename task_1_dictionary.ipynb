{
 "cells": [
  {
   "cell_type": "markdown",
   "id": "d8029550-addf-4b19-93ec-f7c48bf0f701",
   "metadata": {},
   "source": [
    "# dictionary "
   ]
  },
  {
   "cell_type": "code",
   "execution_count": null,
   "id": "3bcd0485-6d66-4079-9b06-51296ca69795",
   "metadata": {},
   "outputs": [],
   "source": [
    "#access_by_keys"
   ]
  },
  {
   "cell_type": "code",
   "execution_count": null,
   "id": "e90edd82-d4dc-41ff-91fc-b443561b4687",
   "metadata": {},
   "outputs": [],
   "source": [
    "my_dict = {'name': 'ABC','age': 20,'city': 'Pune'}\n",
    "x=my_dict.keys()\n",
    "\n"
   ]
  },
  {
   "cell_type": "markdown",
   "id": "e617bba8-3a08-4246-a489-2106d046514b",
   "metadata": {},
   "source": [
    "#access by value"
   ]
  },
  {
   "cell_type": "code",
   "execution_count": null,
   "id": "b9d319fb-2e6a-4e2e-a54a-86c245a08c9e",
   "metadata": {},
   "outputs": [],
   "source": [
    "my_dict = {'name': 'ABC','age': 20,'city': 'Pune'}\n",
    "\n",
    "y=my_dict.values()\n",
    "print(y)\n"
   ]
  },
  {
   "cell_type": "markdown",
   "id": "4acc7ab7-e6ca-4d96-89e5-22f478e3da9f",
   "metadata": {},
   "source": [
    "#access by items"
   ]
  },
  {
   "cell_type": "code",
   "execution_count": null,
   "id": "bd79987a-c69b-4c54-9a48-1c69fc1b7ef3",
   "metadata": {},
   "outputs": [],
   "source": [
    "my_dict = {'name': 'ABC','age': 20,'city': 'Pune'}\n",
    "\n",
    "z=my_dict.items()\n",
    "print(z)\n"
   ]
  },
  {
   "cell_type": "code",
   "execution_count": null,
   "id": "710da1a7-9180-407e-919f-2611358c5115",
   "metadata": {},
   "outputs": [],
   "source": [
    "#delete in dict"
   ]
  },
  {
   "cell_type": "code",
   "execution_count": null,
   "id": "006cd706-fef7-4972-a5ee-ce0d00d651a9",
   "metadata": {},
   "outputs": [],
   "source": [
    "my_dict = {'name': 'ABC','age': 20,'city': 'Pune'}\n",
    "\n",
    "q=my_dict.pop(age)\n",
    "print(q)\n"
   ]
  },
  {
   "cell_type": "markdown",
   "id": "6d04ba81-9e2f-4b8c-8036-39770a468155",
   "metadata": {},
   "source": [
    "#update_in_dict"
   ]
  },
  {
   "cell_type": "code",
   "execution_count": null,
   "id": "b3f0e330-3011-4c13-a032-85655ee87bf5",
   "metadata": {},
   "outputs": [],
   "source": [
    "my_dict = {'name': 'ABC','age': 20,'city': 'Pune'}\n",
    "\n",
    "\n",
    "my_dict.update({'bike':'hero'})\n",
    "print(my_dict)"
   ]
  }
 ],
 "metadata": {
  "kernelspec": {
   "display_name": "Python 3 (ipykernel)",
   "language": "python",
   "name": "python3"
  },
  "language_info": {
   "codemirror_mode": {
    "name": "ipython",
    "version": 3
   },
   "file_extension": ".py",
   "mimetype": "text/x-python",
   "name": "python",
   "nbconvert_exporter": "python",
   "pygments_lexer": "ipython3",
   "version": "3.12.7"
  }
 },
 "nbformat": 4,
 "nbformat_minor": 5
}
