{
 "cells": [
  {
   "cell_type": "markdown",
   "id": "d7e8a829-6079-4fe5-b271-9076d4df1f9d",
   "metadata": {},
   "source": [
    "#Array Shapes and Reshaping"
   ]
  },
  {
   "cell_type": "code",
   "execution_count": 3,
   "id": "0e4d5f12-43e1-4562-9d91-dd3acb6ad830",
   "metadata": {},
   "outputs": [
    {
     "name": "stdout",
     "output_type": "stream",
     "text": [
      "(6,)\n",
      "Number of dimensions: 1\n",
      "(3, 1)\n",
      "Number of dimensions: 2\n"
     ]
    }
   ],
   "source": [
    "import numpy as np\n",
    "arr = np.array([1, 2, 3, 4, 5,0])\n",
    "print(arr.shape) #shaping \n",
    "print(\"Number of dimensions:\", arr.ndim)\n",
    "\n",
    "arr_1=np.array([[1],[2],[3]])\n",
    "print(arr_1.shape) #shaping\n",
    "print(\"Number of dimensions:\", arr_1.ndim)"
   ]
  },
  {
   "cell_type": "code",
   "execution_count": null,
   "id": "0d8aa54d-2cdb-441e-b178-57646682971f",
   "metadata": {},
   "outputs": [],
   "source": []
  },
  {
   "cell_type": "code",
   "execution_count": 33,
   "id": "1306e8a1-4d60-4887-811c-6238aeda439e",
   "metadata": {},
   "outputs": [
    {
     "name": "stdout",
     "output_type": "stream",
     "text": [
      "[1 2 3 4 5 6]\n",
      "[[ 1  2]\n",
      " [ 3  4]\n",
      " [ 5  6]\n",
      " [ 7  8]\n",
      " [ 9 10]\n",
      " [11 12]]\n"
     ]
    }
   ],
   "source": [
    "import numpy as np\n",
    "\n",
    "arr = np.array([[1, 2, 3], [4, 5, 6]])\n",
    "# Reshape to a 1D array\n",
    "\n",
    "flat_arr = arr.reshape(-1)  \n",
    "\n",
    "print(flat_arr)\n",
    "\n",
    "\n",
    "arr1 = np.array([[1, 2, 3], [4, 5, 6],[7,8,9],[10,11,12]])\n",
    "# Reshape to a 2D array\n",
    "\n",
    "flat_arr = arr1.reshape(-1,2)  \n",
    "print(flat_arr)\n",
    "\n"
   ]
  },
  {
   "cell_type": "code",
   "execution_count": 37,
   "id": "2eedee6f-8716-4ca6-9d38-01026b229fd6",
   "metadata": {},
   "outputs": [
    {
     "name": "stdout",
     "output_type": "stream",
     "text": [
      "[1 2 3 4 5 6 7 8 9]\n"
     ]
    }
   ],
   "source": [
    "import  numpy as np\n",
    "arr=np.array([[1,2,3],[4,5,6],[7,8,9]])\n",
    "a=arr.flatten()\n",
    "print(a)"
   ]
  },
  {
   "cell_type": "code",
   "execution_count": 45,
   "id": "588ec227-7c0a-4da9-a0ad-0a3f3d372480",
   "metadata": {},
   "outputs": [
    {
     "name": "stdout",
     "output_type": "stream",
     "text": [
      "[[[1]\n",
      "  [4]\n",
      "  [7]]\n",
      "\n",
      " [[2]\n",
      "  [5]\n",
      "  [8]]]\n"
     ]
    }
   ],
   "source": [
    "import numpy as np\n",
    "arr=np.array([[[1,2],[4,5],[7,8]]])\n",
    "a=arr.transpose()\n",
    "print(a)"
   ]
  },
  {
   "cell_type": "markdown",
   "id": "18dda6a2-ddcf-405d-95c4-3a7a67cfeb6a",
   "metadata": {},
   "source": [
    "Concatenating and splitting arrays"
   ]
  },
  {
   "cell_type": "code",
   "execution_count": 61,
   "id": "aadaf730-21d9-432b-91d3-1c055f76810c",
   "metadata": {},
   "outputs": [
    {
     "name": "stdout",
     "output_type": "stream",
     "text": [
      "[[2 4]\n",
      " [6 8]\n",
      " [3 5]\n",
      " [7 9]]\n",
      "[[2 4 3 5]\n",
      " [6 8 7 9]]\n"
     ]
    }
   ],
   "source": [
    "import numpy as np \n",
    "  \n",
    "arr1 = np.array([[2, 4], [6, 8]]) \n",
    "arr2 = np.array([[3, 5], [7, 9]]) \n",
    "  \n",
    "g = np.concatenate((arr1, arr2))\n",
    "print(g)\n",
    "g = np.concatenate((arr1, arr2),axis=1)\n",
    "print(g)"
   ]
  },
  {
   "cell_type": "code",
   "execution_count": 63,
   "id": "de29efb9-83c7-4771-a18e-0baf96a4db38",
   "metadata": {},
   "outputs": [
    {
     "name": "stdout",
     "output_type": "stream",
     "text": [
      "[[2 4]\n",
      " [6 8]\n",
      " [3 5]\n",
      " [7 9]]\n"
     ]
    }
   ],
   "source": [
    "import numpy as np \n",
    "  \n",
    "arr1 = np.array([[2, 4], [6, 8]]) \n",
    "arr2 = np.array([[3, 5], [7, 9]]) \n",
    "  \n",
    "g = np.vstack((arr1, arr2))\n",
    "print(g)"
   ]
  },
  {
   "cell_type": "code",
   "execution_count": 65,
   "id": "bd4e8ebf-2d97-40a2-958f-f56027b9a4dd",
   "metadata": {},
   "outputs": [
    {
     "name": "stdout",
     "output_type": "stream",
     "text": [
      "1st Input array : \n",
      " [1 2 3]\n",
      "2nd Input array : \n",
      " [4 5 6]\n",
      "Output horizontally stacked array:\n",
      "  [1 2 3 4 5 6]\n"
     ]
    }
   ],
   "source": [
    "import numpy as np\n",
    "\n",
    "in_arr1 = np.array([ 1, 2, 3] ) \n",
    "print (\"1st Input array : \\n\", in_arr1)  \n",
    "  \n",
    "in_arr2 = np.array([ 4, 5, 6] ) \n",
    "print (\"2nd Input array : \\n\", in_arr2)  \n",
    "  \n",
    "out_arr = np.hstack((in_arr1, in_arr2)) \n",
    "print (\"Output horizontally stacked array:\\n \", out_arr)"
   ]
  },
  {
   "cell_type": "code",
   "execution_count": 69,
   "id": "83b9c093-6bee-4f3d-9227-340c7fd9c710",
   "metadata": {},
   "outputs": [
    {
     "name": "stdout",
     "output_type": "stream",
     "text": [
      "[array([0, 1]), array([2, 3]), array([4, 5])]\n"
     ]
    }
   ],
   "source": [
    "import numpy as np\n",
    "\n",
    "# create a 1-D array\n",
    "array1 = np.array([0, 1, 2, 3,4,5])\n",
    "\n",
    "# split into two equal length sub-arrays \n",
    "subArrays= np.split(array1, 3)\n",
    "\n",
    "print(subArrays)"
   ]
  },
  {
   "cell_type": "code",
   "execution_count": null,
   "id": "dfbd48c0-6b38-4c8d-8541-c3c7dd7df451",
   "metadata": {},
   "outputs": [],
   "source": []
  }
 ],
 "metadata": {
  "kernelspec": {
   "display_name": "Python 3 (ipykernel)",
   "language": "python",
   "name": "python3"
  },
  "language_info": {
   "codemirror_mode": {
    "name": "ipython",
    "version": 3
   },
   "file_extension": ".py",
   "mimetype": "text/x-python",
   "name": "python",
   "nbconvert_exporter": "python",
   "pygments_lexer": "ipython3",
   "version": "3.12.7"
  }
 },
 "nbformat": 4,
 "nbformat_minor": 5
}
