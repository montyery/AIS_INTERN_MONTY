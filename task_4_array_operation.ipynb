{
 "cells": [
  {
   "cell_type": "markdown",
   "id": "a55b904a-6775-4389-bc3b-33ba940d79cf",
   "metadata": {},
   "source": [
    " Array Operations\n",
    "Arithmetic operations on NumPy arrays :addition , subtraction, multiplication, division)."
   ]
  },
  {
   "cell_type": "markdown",
   "id": "65a907a8-6cd8-4956-bb21-0e79e8a60d04",
   "metadata": {},
   "source": [
    "Arithmetic operations on NumPy arrays :addition"
   ]
  },
  {
   "cell_type": "code",
   "execution_count": 1,
   "id": "5e882534-5856-4325-b5b6-5532fdeff702",
   "metadata": {},
   "outputs": [
    {
     "name": "stdout",
     "output_type": "stream",
     "text": [
      "[ 7  9 11 13 15]\n"
     ]
    }
   ],
   "source": [
    "import numpy as np\n",
    "\n",
    "arr = np.array([1, 2, 3, 4, 5])\n",
    "arr_1 = np.array([6,7,8,9,10])\n",
    "\n",
    "print(arr+arr_1)"
   ]
  },
  {
   "cell_type": "code",
   "execution_count": null,
   "id": "1443f47a-2175-4e9d-98b5-87d65690a2ed",
   "metadata": {},
   "outputs": [],
   "source": [
    "#Arithmetic operations on NumPy arrays :subtraction"
   ]
  },
  {
   "cell_type": "code",
   "execution_count": 3,
   "id": "ace967b5-d5a4-4f18-8ab6-43107a7c9b6f",
   "metadata": {},
   "outputs": [
    {
     "name": "stdout",
     "output_type": "stream",
     "text": [
      "[-5 -5 -5 -5 -5]\n"
     ]
    }
   ],
   "source": [
    "import numpy as np\n",
    "\n",
    "arr = np.array([1, 2, 3, 4, 5])\n",
    "arr_1 = np.array([6,7,8,9,10])\n",
    "\n",
    "print(arr-arr_1)"
   ]
  },
  {
   "cell_type": "code",
   "execution_count": null,
   "id": "cf34e49e-a001-4d06-878f-32cf75624cef",
   "metadata": {},
   "outputs": [],
   "source": [
    "#Arithmetic operations on NumPy arrays :multiplication"
   ]
  },
  {
   "cell_type": "code",
   "execution_count": 5,
   "id": "97302165-5073-4919-bade-3724dc959497",
   "metadata": {},
   "outputs": [
    {
     "name": "stdout",
     "output_type": "stream",
     "text": [
      "[ 6 14 24 36 50]\n"
     ]
    }
   ],
   "source": [
    "import numpy as np\n",
    "\n",
    "arr = np.array([1, 2, 3, 4, 5])\n",
    "arr_1 = np.array([6,7,8,9,10])\n",
    "\n",
    "print(arr*arr_1)"
   ]
  },
  {
   "cell_type": "code",
   "execution_count": null,
   "id": "ed503c51-b197-4470-a018-b2d161781d7e",
   "metadata": {},
   "outputs": [],
   "source": [
    "#Arithmetic operations on NumPy arrays :division"
   ]
  },
  {
   "cell_type": "code",
   "execution_count": 11,
   "id": "719f1935-5e89-4711-9dea-e6d860733aba",
   "metadata": {},
   "outputs": [
    {
     "name": "stdout",
     "output_type": "stream",
     "text": [
      "[0.16666667 0.25       0.25       0.25       0.25      ]\n"
     ]
    }
   ],
   "source": [
    "import numpy as np\n",
    "\n",
    "arr = np.array([1, 2, 3, 4, 5])\n",
    "arr_1 = np.array([6,8,12,16,20])\n",
    "\n",
    "print(arr/arr_1)"
   ]
  },
  {
   "cell_type": "code",
   "execution_count": null,
   "id": "7c4131a2-0b1f-4ecf-b13a-d6abbeec3b18",
   "metadata": {},
   "outputs": [],
   "source": [
    "Array Operations  Broadcasting (performing operations on arrays of different shapes)."
   ]
  },
  {
   "cell_type": "code",
   "execution_count": 37,
   "id": "c9f1a5bf-78a5-428a-849f-646e44257779",
   "metadata": {},
   "outputs": [
    {
     "name": "stdout",
     "output_type": "stream",
     "text": [
      "(6,)\n",
      "(3, 1)\n"
     ]
    }
   ],
   "source": [
    "import numpy as np\n",
    "arr = np.array([1, 2, 3, 4, 5,0])\n",
    "print(arr.shape) #shaping \n",
    "\n",
    "arr_1=np.array([[1],[2],[3]])\n",
    "print(arr_1.shape) #shaping"
   ]
  },
  {
   "cell_type": "code",
   "execution_count": 21,
   "id": "43e85d53-f0d0-43d0-bf28-24478b91577b",
   "metadata": {},
   "outputs": [
    {
     "name": "stdout",
     "output_type": "stream",
     "text": [
      "[[ 2  7 11]\n",
      " [ 4  8 12]]\n"
     ]
    }
   ],
   "source": [
    "import numpy as np\n",
    "arr1=np.array([[1,3,6]])\n",
    "arr_2=np.array([[1,4,5],[3,5,6]])\n",
    "print(arr1+arr_2)"
   ]
  },
  {
   "cell_type": "code",
   "execution_count": 45,
   "id": "64c41975-48d6-44ff-a196-2569ed0c6bb0",
   "metadata": {},
   "outputs": [
    {
     "name": "stdout",
     "output_type": "stream",
     "text": [
      "[[1.         1.73205081 2.44948974 7.        ]]\n"
     ]
    }
   ],
   "source": [
    "import numpy as np\n",
    "arr1=np.array([[1,3,6,49]])\n",
    "a=np.sqrt(arr1)\n",
    "print(a)"
   ]
  },
  {
   "cell_type": "code",
   "execution_count": 49,
   "id": "51d868bc-2101-45cc-ab4c-c05fea4660c9",
   "metadata": {},
   "outputs": [
    {
     "name": "stdout",
     "output_type": "stream",
     "text": [
      "[[0.         1.73205081 2.44948974 3.        ]]\n"
     ]
    }
   ],
   "source": [
    "import numpy as np\n",
    "arr1=np.array([[0,3,6,9]])\n",
    "a=np.sqrt(arr1)\n",
    "print(a)"
   ]
  },
  {
   "cell_type": "code",
   "execution_count": null,
   "id": "6a65f15e-cbfb-4d4a-b2a4-31513cee80a1",
   "metadata": {},
   "outputs": [],
   "source": [
    "import numpy as np\n",
    "arr1=np.array([[0,30,60,90]])\n",
    "a=np.exp(arr1)\n",
    "print(a)"
   ]
  },
  {
   "cell_type": "code",
   "execution_count": null,
   "id": "761a7d43-f02b-4108-9a1f-1bb1d3dce79e",
   "metadata": {},
   "outputs": [],
   "source": [
    "\n",
    "\n",
    "import numpy as np\n",
    " \n",
    "in_array = [1, 3, 5]\n",
    "print (\"Input array : \", in_array)\n",
    " \n",
    "out_array = np.exp(in_array)\n",
    "print (\"Output array : \", out_array)"
   ]
  },
  {
   "cell_type": "code",
   "execution_count": null,
   "id": "6346d74f-f426-49d7-b8ca-9b4ffff6858e",
   "metadata": {},
   "outputs": [],
   "source": []
  }
 ],
 "metadata": {
  "kernelspec": {
   "display_name": "Python 3 (ipykernel)",
   "language": "python",
   "name": "python3"
  },
  "language_info": {
   "codemirror_mode": {
    "name": "ipython",
    "version": 3
   },
   "file_extension": ".py",
   "mimetype": "text/x-python",
   "name": "python",
   "nbconvert_exporter": "python",
   "pygments_lexer": "ipython3",
   "version": "3.12.7"
  }
 },
 "nbformat": 4,
 "nbformat_minor": 5
}
