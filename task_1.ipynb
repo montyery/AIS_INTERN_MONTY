{
 "cells": [
  {
   "cell_type": "markdown",
   "id": "8a9e327f-18df-4ab0-928e-272cb6295e3a",
   "metadata": {},
   "source": [
    "# number in python "
   ]
  },
  {
   "cell_type": "markdown",
   "id": "71ffb6d0-c383-4856-a30f-05f8a30d2079",
   "metadata": {},
   "source": [
    "# arithmetic_Operation on integers "
   ]
  },
  {
   "cell_type": "code",
   "execution_count": 1,
   "id": "e55d45e1-48cb-4a70-b3b4-20cf6289ce41",
   "metadata": {},
   "outputs": [
    {
     "name": "stdout",
     "output_type": "stream",
     "text": [
      "6\n",
      "-2\n",
      "8\n",
      "0.5\n",
      "6.7\n",
      "2.3\n",
      "9.9\n",
      "2.0454545454545454\n",
      "(7+5j)\n"
     ]
    }
   ],
   "source": [
    "\n",
    "\n",
    "a=2 #integer \n",
    "b=4 #integer \n",
    "\n",
    "#addition operation of float \n",
    "print(a+b) \n",
    "\n",
    "#subtraction  operation of float\n",
    "print(a-b) \n",
    "\n",
    "#multiplication  operation of float\n",
    "print(a*b)\n",
    "\n",
    "#division  operation of float\n",
    "print(a/b)\n",
    "\n",
    "\n",
    "\n",
    "\n"
   ]
  },
  {
   "cell_type": "markdown",
   "id": "9debe575-f51e-445d-acfd-64c258dcd9ab",
   "metadata": {},
   "source": [
    "#arithmetic_operation_on_float\n"
   ]
  },
  {
   "cell_type": "code",
   "execution_count": null,
   "id": "235827c3-842d-4c0f-99f7-1dccd0c235c9",
   "metadata": {},
   "outputs": [],
   "source": [
    "a=4.5\n",
    "b=2.2\n",
    "\n",
    "#addition operation of float \n",
    "print(a+b) \n",
    "\n",
    "#subtraction  operation of float\n",
    "print(a-b) \n",
    "\n",
    "#multiplication  operation of float\n",
    "print(a*b)\n",
    "\n",
    "#division  operation of float\n",
    "print(a/b)"
   ]
  },
  {
   "cell_type": "markdown",
   "id": "f90ffea1-5714-46a0-8d9c-b588dc38bbfd",
   "metadata": {},
   "source": [
    "#complex_no"
   ]
  },
  {
   "cell_type": "code",
   "execution_count": null,
   "id": "b567b486-7fee-4ffe-8c5d-d065dbfc98c3",
   "metadata": {},
   "outputs": [],
   "source": [
    "z = complex(3, 2)\n",
    "w=complex(4,3)\n",
    "# add of complex\n",
    "print(z+w)  "
   ]
  }
 ],
 "metadata": {
  "kernelspec": {
   "display_name": "Python 3 (ipykernel)",
   "language": "python",
   "name": "python3"
  },
  "language_info": {
   "codemirror_mode": {
    "name": "ipython",
    "version": 3
   },
   "file_extension": ".py",
   "mimetype": "text/x-python",
   "name": "python",
   "nbconvert_exporter": "python",
   "pygments_lexer": "ipython3",
   "version": "3.12.7"
  }
 },
 "nbformat": 4,
 "nbformat_minor": 5
}
