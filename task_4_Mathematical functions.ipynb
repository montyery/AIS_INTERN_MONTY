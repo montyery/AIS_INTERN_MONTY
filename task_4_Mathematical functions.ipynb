{
 "cells": [
  {
   "cell_type": "markdown",
   "id": "1c1ef141-a2b6-41d0-9c46-c04378a22a90",
   "metadata": {},
   "source": [
    "# Mathematical functions"
   ]
  },
  {
   "cell_type": "markdown",
   "id": "dc4b960a-f3db-46e1-a090-b1a318be73c8",
   "metadata": {},
   "source": [
    "### universal function"
   ]
  },
  {
   "cell_type": "markdown",
   "id": "67673c04-e84d-4d88-96dc-be648ca80463",
   "metadata": {},
   "source": [
    "#### "
   ]
  },
  {
   "cell_type": "markdown",
   "id": "6e9dabe7-fe47-425f-8cfa-778b579a6684",
   "metadata": {},
   "source": [
    "#### np.add()"
   ]
  },
  {
   "cell_type": "code",
   "execution_count": 2,
   "id": "f5cbc89f-e759-4728-aacd-a4b8ce6e75e2",
   "metadata": {},
   "outputs": [
    {
     "name": "stdout",
     "output_type": "stream",
     "text": [
      "1st Input number :  100\n",
      "2nd Input number :  155\n",
      "output number after addition :  255\n"
     ]
    }
   ],
   "source": [
    "import numpy as geek\n",
    "in_num1 = 100\n",
    "in_num2 = 155\n",
    "\n",
    "print (\"1st Input number : \", in_num1)\n",
    "print (\"2nd Input number : \", in_num2)\n",
    "\n",
    "out_num = geek.add(in_num1, in_num2) \n",
    "print (\"output number after addition : \", out_num)\n"
   ]
  },
  {
   "cell_type": "markdown",
   "id": "ac36b4da-7bff-4b33-a7e7-8a6cfc296e64",
   "metadata": {},
   "source": [
    "#### np.subtract()"
   ]
  },
  {
   "cell_type": "code",
   "execution_count": 4,
   "id": "7ff57937-f50f-4fb3-9ecb-57ef6c3e0eeb",
   "metadata": {},
   "outputs": [
    {
     "name": "stdout",
     "output_type": "stream",
     "text": [
      "1st Input number :  48\n",
      "2nd Input number :  36\n",
      "Difference of two input number :  12\n"
     ]
    }
   ],
   "source": [
    "\n",
    "import numpy as geek\n",
    "in_num1 = 48\n",
    "in_num2 = 36\n",
    "\n",
    "print (\"1st Input number : \", in_num1)\n",
    "print (\"2nd Input number : \", in_num2)\n",
    "\n",
    "out_num = geek.subtract(in_num1, in_num2) \n",
    "print (\"Difference of two input number : \", out_num)"
   ]
  },
  {
   "cell_type": "markdown",
   "id": "48f73a7d-ede8-49a3-babd-8c0b7002a055",
   "metadata": {},
   "source": [
    "#### np.multiply()"
   ]
  },
  {
   "cell_type": "code",
   "execution_count": 6,
   "id": "4ac49722-e124-470a-ad06-9d7554f5e972",
   "metadata": {},
   "outputs": [
    {
     "name": "stdout",
     "output_type": "stream",
     "text": [
      "1st Input number :  57\n",
      "2nd Input number :  6\n",
      "output number :  342\n"
     ]
    }
   ],
   "source": [
    "import numpy as geek \n",
    "in_num1 = 57\n",
    "in_num2 = 6\n",
    "\n",
    "print (\"1st Input number : \", in_num1) \n",
    "print (\"2nd Input number : \", in_num2) \n",
    "\t\n",
    "out_num = geek.multiply(in_num1, in_num2) \n",
    "print (\"output number : \", out_num) \n"
   ]
  },
  {
   "cell_type": "markdown",
   "id": "16c4796e-11e4-4d1d-8cd5-4808725c6c41",
   "metadata": {},
   "source": [
    " ### Statistical functions"
   ]
  },
  {
   "cell_type": "markdown",
   "id": "48867e68-d57b-4fc4-8531-30abf4e7117b",
   "metadata": {},
   "source": [
    "#### np.mean()"
   ]
  },
  {
   "cell_type": "code",
   "execution_count": 8,
   "id": "bbb268c4-6b37-44c7-ad89-492eff96b0de",
   "metadata": {},
   "outputs": [
    {
     "name": "stdout",
     "output_type": "stream",
     "text": [
      "arr :  [200, 62, 77, 1, 34]\n",
      "mean of arr :  74.8\n"
     ]
    }
   ],
   "source": [
    "\n",
    "import numpy as np \n",
    "arr = [200, 62, 77, 1, 34] \n",
    "\n",
    "print(\"arr : \", arr) \n",
    "print(\"mean of arr : \", np.mean(arr)) \n",
    "\n"
   ]
  },
  {
   "cell_type": "markdown",
   "id": "764fe648-5d04-4471-bc0c-8efcee4dad09",
   "metadata": {},
   "source": [
    "#### np.median"
   ]
  },
  {
   "cell_type": "code",
   "execution_count": 9,
   "id": "ea3b7bae-9873-45f9-995e-8781c115dd00",
   "metadata": {},
   "outputs": [
    {
     "name": "stdout",
     "output_type": "stream",
     "text": [
      "arr :  [20, 2, 7, 1, 34]\n",
      "median of arr :  7.0\n"
     ]
    }
   ],
   "source": [
    "\n",
    "import numpy as np \n",
    "arr = [20, 2, 7, 1, 34] \n",
    "\n",
    "print(\"arr : \", arr) \n",
    "print(\"median of arr : \", np.median(arr)) \n",
    "\n"
   ]
  },
  {
   "cell_type": "markdown",
   "id": "f9e6c8f9-a82c-43c0-92b5-ed0d7ded2df6",
   "metadata": {},
   "source": [
    " #### np.std()"
   ]
  },
  {
   "cell_type": "code",
   "execution_count": 10,
   "id": "b483ae79-5738-43e6-aea6-ce46040a63d4",
   "metadata": {},
   "outputs": [
    {
     "name": "stdout",
     "output_type": "stream",
     "text": [
      "\n",
      "std of arr, axis = None :  15.3668474320532\n",
      "\n",
      "std of arr, axis = 0 :  [ 7.56224173 17.68473918 18.59267329  3.04138127  0.        ]\n",
      "\n",
      "std of arr, axis = 1 :  [ 0.          8.7772433  20.53874388 16.40243884]\n"
     ]
    }
   ],
   "source": [
    "\n",
    "import numpy as np \n",
    "arr = [[2, 2, 2, 2, 2], \n",
    "\t[15, 6, 27, 8, 2], \n",
    "\t[23, 2, 54, 1, 2, ], \n",
    "\t[11, 44, 34, 7, 2]] \n",
    "\n",
    " \n",
    "print(\"\\nstd of arr, axis = None : \", np.std(arr)) \n",
    "\t\n",
    "print(\"\\nstd of arr, axis = 0 : \", np.std(arr, axis = 0)) \n",
    "\n",
    "print(\"\\nstd of arr, axis = 1 : \", np.std(arr, axis = 1)) \n"
   ]
  },
  {
   "cell_type": "markdown",
   "id": "1853cb8c-317a-45d1-9d4a-58bb29a9426a",
   "metadata": {},
   "source": [
    "#### np.var"
   ]
  },
  {
   "cell_type": "code",
   "execution_count": 11,
   "id": "015e60e6-c343-4f54-9801-0dad771c5b52",
   "metadata": {},
   "outputs": [
    {
     "name": "stdout",
     "output_type": "stream",
     "text": [
      "arr :  [20, 2, 7, 1, 34]\n",
      "var of arr :  158.16\n",
      "\n",
      "var of arr :  158.16\n",
      "\n",
      "var of arr :  158.16\n"
     ]
    }
   ],
   "source": [
    "\n",
    "import numpy as np \n",
    "\t\n",
    "# 1D array \n",
    "arr = [20, 2, 7, 1, 34] \n",
    "\n",
    "print(\"arr : \", arr) \n",
    "print(\"var of arr : \", np.var(arr)) \n",
    "\n",
    "print(\"\\nvar of arr : \", np.var(arr, dtype = np.float32)) \n",
    "print(\"\\nvar of arr : \", np.var(arr, dtype = np.float64)) \n"
   ]
  },
  {
   "cell_type": "markdown",
   "id": "2a7c5a94-3a07-45d4-a04c-dc0a3347dd78",
   "metadata": {},
   "source": [
    "#### np.min()"
   ]
  },
  {
   "cell_type": "code",
   "execution_count": 12,
   "id": "4e016f56-3fc5-4e41-9e0d-9eab9eccd4b5",
   "metadata": {},
   "outputs": [
    {
     "name": "stdout",
     "output_type": "stream",
     "text": [
      "Input number1 :  10\n",
      "Input number2 :  21\n",
      "minimum of 10 and 21 :  10\n"
     ]
    }
   ],
   "source": [
    "import numpy as geek \n",
    "in_num1 = 10\n",
    "in_num2 = 21\n",
    "\n",
    "print (\"Input number1 : \", in_num1) \n",
    "print (\"Input number2 : \", in_num2) \n",
    "\t\n",
    "out_num = geek.minimum(in_num1, in_num2) \n",
    "print (\"minimum of 10 and 21 : \", out_num) \n"
   ]
  },
  {
   "cell_type": "markdown",
   "id": "6d2cdc27-738f-4a87-bfa9-ee354874755b",
   "metadata": {},
   "source": [
    "#### np.max()"
   ]
  },
  {
   "cell_type": "code",
   "execution_count": 13,
   "id": "f855fcfe-c8fc-40c0-915b-362016618d78",
   "metadata": {},
   "outputs": [
    {
     "name": "stdout",
     "output_type": "stream",
     "text": [
      "Input number1 :  10\n",
      "Input number2 :  21\n",
      "minimum of 10 and 21 :  10\n"
     ]
    }
   ],
   "source": [
    "import numpy as geek \n",
    "in_num1 = 10\n",
    "in_num2 = 21\n",
    "\n",
    "print (\"Input number1 : \", in_num1) \n",
    "print (\"Input number2 : \", in_num2) \n",
    "\t\n",
    "out_num = geek.minimum(in_num1, in_num2) \n",
    "print (\"minimum of 10 and 21 : \", out_num) \n"
   ]
  },
  {
   "cell_type": "markdown",
   "id": "d0634707-d1bd-44fd-baa3-b9122e6a7094",
   "metadata": {},
   "source": [
    "### Linear Algebra Functions"
   ]
  },
  {
   "cell_type": "markdown",
   "id": "7e18813d-7053-4cfb-8cc2-dfa01971e2c8",
   "metadata": {},
   "source": [
    "#### np.dot()"
   ]
  },
  {
   "cell_type": "code",
   "execution_count": 14,
   "id": "24421520-e500-4da0-970a-bc81cb7dad7d",
   "metadata": {},
   "outputs": [
    {
     "name": "stdout",
     "output_type": "stream",
     "text": [
      "Dot Product of scalar values :  20\n",
      "Dot Product :  (-7+22j)\n"
     ]
    }
   ],
   "source": [
    "\n",
    "import numpy as geek\n",
    "\n",
    "product = geek.dot(5, 4)\n",
    "print(\"Dot Product of scalar values : \", product)\n",
    "\n",
    "vector_a = 2 + 3j\n",
    "vector_b = 4 + 5j\n",
    "\n",
    "product = geek.dot(vector_a, vector_b)\n",
    "print(\"Dot Product : \", product)\n"
   ]
  },
  {
   "cell_type": "markdown",
   "id": "ad71b8fe-9588-4bfd-a545-235314829e92",
   "metadata": {},
   "source": [
    "#### np.matmul"
   ]
  },
  {
   "cell_type": "code",
   "execution_count": 1,
   "id": "e5a75c64-7495-4e9a-9b4b-69fa7e7a0b45",
   "metadata": {},
   "outputs": [
    {
     "name": "stdout",
     "output_type": "stream",
     "text": [
      "[[4 1]\n",
      " [2 2]]\n"
     ]
    }
   ],
   "source": [
    "import numpy.matlib \n",
    "import numpy as np \n",
    "\n",
    "a = [[1,0],[0,1]] \n",
    "b = [[4,1],[2,2]] \n",
    "print (np.matmul(a,b))\n"
   ]
  },
  {
   "cell_type": "markdown",
   "id": "d3089c7e-7c8d-4c60-bdd5-9e9ce582413c",
   "metadata": {},
   "source": [
    "#### np.linalg.inv()"
   ]
  },
  {
   "cell_type": "code",
   "execution_count": 1,
   "id": "7ecba654-42eb-4d74-81c8-9ed1a9f51e6e",
   "metadata": {},
   "outputs": [
    {
     "name": "stdout",
     "output_type": "stream",
     "text": [
      "Rank of A: 3\n",
      "\n",
      "Trace of A: 11\n",
      "\n",
      "Determinant of A: -306.0\n",
      "\n",
      "Inverse of A:\n",
      " [[ 0.17647059 -0.00326797 -0.02287582]\n",
      " [ 0.05882353 -0.13071895  0.08496732]\n",
      " [-0.11764706  0.1503268   0.05228758]]\n",
      "\n",
      "Matrix A raised to power 3:\n",
      " [[336 162 228]\n",
      " [406 162 469]\n",
      " [698 702 905]]\n"
     ]
    }
   ],
   "source": [
    "\n",
    "import numpy as np\n",
    " \n",
    "A = np.array([[6, 1, 1],\n",
    "              [4, -2, 5],\n",
    "              [2, 8, 7]])\n",
    " \n",
    "\n",
    "print(\"Rank of A:\", np.linalg.matrix_rank(A))\n",
    " \n",
    "print(\"\\nTrace of A:\", np.trace(A))\n",
    " \n",
    "print(\"\\nDeterminant of A:\", np.linalg.det(A)) # np.linalg.det\n",
    " \n",
    "print(\"\\nInverse of A:\\n\", np.linalg.inv(A)) # np.linalg.inv\n",
    " \n",
    "print(\"\\nMatrix A raised to power 3:\\n\",\n",
    "           np.linalg.matrix_power(A, 3))"
   ]
  },
  {
   "cell_type": "markdown",
   "id": "92d89ccd-280e-404e-9654-04d6f52c9e6c",
   "metadata": {},
   "source": [
    "#### np.linalg.eig()"
   ]
  },
  {
   "cell_type": "code",
   "execution_count": 2,
   "id": "4d88374f-8a9f-4a50-83e4-8d9bc64e08d6",
   "metadata": {},
   "outputs": [
    {
     "name": "stdout",
     "output_type": "stream",
     "text": [
      "[[ 1 -2]\n",
      " [ 1  3]]\n",
      "\n",
      "[2.+1.j 2.-1.j]\n",
      "\n",
      "[[ 0.81649658+0.j          0.81649658-0.j        ]\n",
      " [-0.40824829-0.40824829j -0.40824829+0.40824829j]]\n"
     ]
    }
   ],
   "source": [
    "import numpy as np \n",
    "\n",
    "\n",
    "mat = np.mat(\"1 -2;1 3\")  \n",
    "print(mat) \n",
    "print(\"\") \n",
    "evalue, evect = np.linalg.eig(mat)  \n",
    "print(evalue) \n",
    "print(\"\") \n",
    "print(evect) \n"
   ]
  },
  {
   "cell_type": "code",
   "execution_count": null,
   "id": "cc66b8a1-1d56-42d4-a17c-8c737dc8ce33",
   "metadata": {},
   "outputs": [],
   "source": []
  }
 ],
 "metadata": {
  "kernelspec": {
   "display_name": "Python 3 (ipykernel)",
   "language": "python",
   "name": "python3"
  },
  "language_info": {
   "codemirror_mode": {
    "name": "ipython",
    "version": 3
   },
   "file_extension": ".py",
   "mimetype": "text/x-python",
   "name": "python",
   "nbconvert_exporter": "python",
   "pygments_lexer": "ipython3",
   "version": "3.12.0b4"
  }
 },
 "nbformat": 4,
 "nbformat_minor": 5
}
