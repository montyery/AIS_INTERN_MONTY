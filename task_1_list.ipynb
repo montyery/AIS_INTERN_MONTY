{
 "cells": [
  {
   "cell_type": "markdown",
   "id": "a9909d5f-1c5f-4ba7-9ab3-068501fae782",
   "metadata": {},
   "source": [
    "# lists in python \n"
   ]
  },
  {
   "cell_type": "markdown",
   "id": "af8bcfc8-c48b-4d39-a025-131ea3457998",
   "metadata": {},
   "source": [
    "# accessing list"
   ]
  },
  {
   "cell_type": "code",
   "execution_count": null,
   "id": "6b682602-7333-4f9d-a791-81157c5f7a75",
   "metadata": {},
   "outputs": [],
   "source": [
    "states_of_India=[\"Maharashtra\",\"AP\",\"UP\",\"Jammu\",\"Punjab\"]\n",
    "\n",
    "\n",
    "\n"
   ]
  },
  {
   "cell_type": "code",
   "execution_count": null,
   "id": "94661e86-ea46-4ddd-801f-c0eb5d503304",
   "metadata": {},
   "outputs": [],
   "source": [
    "print(states_of_India) # accessing list"
   ]
  },
  {
   "cell_type": "code",
   "execution_count": null,
   "id": "ce17c0a2-e893-4789-9481-da1259572dfe",
   "metadata": {},
   "outputs": [],
   "source": [
    "print(states_of_India[1]) # accessing single elements of list"
   ]
  },
  {
   "cell_type": "code",
   "execution_count": null,
   "id": "eeba0d02-9bc4-44ce-ac91-9b593254ab6e",
   "metadata": {},
   "outputs": [],
   "source": [
    "states_of_India[1]=\"goa\" # changing index val of a llist\n",
    "print(states_of_India)"
   ]
  },
  {
   "cell_type": "markdown",
   "id": "255c67b1-ba0e-4d46-a987-55eee18ced90",
   "metadata": {},
   "source": [
    "#adding to list"
   ]
  },
  {
   "cell_type": "code",
   "execution_count": null,
   "id": "5b071484-8449-47ba-a547-e8a0dcfb6d5a",
   "metadata": {},
   "outputs": [],
   "source": [
    "states_of_India=[\"Maharashtra\",\"AP\",\"UP\",\"Jammu\",\"Punjab\"]\n",
    "\n"
   ]
  },
  {
   "cell_type": "code",
   "execution_count": null,
   "id": "dfd231d2-8abb-4be0-a851-db20a1fe07c0",
   "metadata": {},
   "outputs": [],
   "source": [
    "#adding to list\n",
    "states_of_India.append(\"bihar\")\n",
    "print(states_of_India)"
   ]
  },
  {
   "cell_type": "markdown",
   "id": "ce85e11e-c24b-48a7-b9bb-0dbc7c93c93a",
   "metadata": {},
   "source": [
    "#removing element"
   ]
  },
  {
   "cell_type": "code",
   "execution_count": null,
   "id": "f04760b4-4b9b-4120-8fb2-0317ff81d436",
   "metadata": {},
   "outputs": [],
   "source": [
    "states_of_India=[\"Maharashtra\",\"AP\",\"UP\",\"Jammu\",\"Punjab\"]\n",
    "\n"
   ]
  },
  {
   "cell_type": "code",
   "execution_count": null,
   "id": "7592a313-59f2-46a1-968d-1acba73e3613",
   "metadata": {},
   "outputs": [],
   "source": [
    "#removing element\n",
    "states_of_India.remove(\"goa\")\n",
    "print(states_of_India)"
   ]
  },
  {
   "cell_type": "code",
   "execution_count": null,
   "id": "8e85fbe5-cd21-4a15-9a9f-56825f5000d8",
   "metadata": {},
   "outputs": [],
   "source": [
    "\n",
    "states_of_India.pop(0)\n",
    "print(states_of_India)"
   ]
  },
  {
   "cell_type": "markdown",
   "id": "2c42ef99-830d-40b8-96db-070938aca00a",
   "metadata": {},
   "source": [
    "# reverse list"
   ]
  },
  {
   "cell_type": "code",
   "execution_count": 4,
   "id": "0f22d826-2b77-4785-85d0-58cfc6bf80ee",
   "metadata": {},
   "outputs": [
    {
     "name": "stdout",
     "output_type": "stream",
     "text": [
      "['Punjab', 'Jammu', 'UP', 'AP', 'Maharashtra']\n"
     ]
    }
   ],
   "source": [
    "states_of_India=[\"Maharashtra\",\"AP\",\"UP\",\"Jammu\",\"Punjab\"]\n",
    "# reverse list\n",
    "states_of_India.reverse()\n",
    "print(states_of_India)"
   ]
  },
  {
   "cell_type": "code",
   "execution_count": 2,
   "id": "9e2dd030-4e4d-4f78-b516-6cb26b234e92",
   "metadata": {},
   "outputs": [
    {
     "ename": "NameError",
     "evalue": "name 'states_of_India' is not defined",
     "output_type": "error",
     "traceback": [
      "\u001b[1;31m---------------------------------------------------------------------------\u001b[0m",
      "\u001b[1;31mNameError\u001b[0m                                 Traceback (most recent call last)",
      "Cell \u001b[1;32mIn[2], line 2\u001b[0m\n\u001b[0;32m      1\u001b[0m \u001b[38;5;66;03m# reverse list\u001b[39;00m\n\u001b[1;32m----> 2\u001b[0m \u001b[43mstates_of_India\u001b[49m\u001b[38;5;241m.\u001b[39mreverse()\n\u001b[0;32m      3\u001b[0m \u001b[38;5;28mprint\u001b[39m(states_of_India)\n",
      "\u001b[1;31mNameError\u001b[0m: name 'states_of_India' is not defined"
     ]
    }
   ],
   "source": []
  },
  {
   "cell_type": "code",
   "execution_count": null,
   "id": "ee0954e1-4ba6-45db-9975-9338b69fab51",
   "metadata": {},
   "outputs": [],
   "source": []
  }
 ],
 "metadata": {
  "kernelspec": {
   "display_name": "Python 3 (ipykernel)",
   "language": "python",
   "name": "python3"
  },
  "language_info": {
   "codemirror_mode": {
    "name": "ipython",
    "version": 3
   },
   "file_extension": ".py",
   "mimetype": "text/x-python",
   "name": "python",
   "nbconvert_exporter": "python",
   "pygments_lexer": "ipython3",
   "version": "3.12.7"
  }
 },
 "nbformat": 4,
 "nbformat_minor": 5
}
