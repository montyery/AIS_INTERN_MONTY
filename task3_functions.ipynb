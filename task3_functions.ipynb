{
 "cells": [
  {
   "cell_type": "code",
   "execution_count": null,
   "id": "42c8bc6c-a620-41f2-83c9-332843851e72",
   "metadata": {},
   "outputs": [],
   "source": [
    " Write a Python function to find the maximum of from given"
   ]
  },
  {
   "cell_type": "code",
   "execution_count": 77,
   "id": "52f8606b-32bd-4661-9303-f9f3daf6b1bd",
   "metadata": {},
   "outputs": [
    {
     "name": "stdout",
     "output_type": "stream",
     "text": [
      "199\n"
     ]
    }
   ],
   "source": [
    "student_scores = [150, 142, 185, 120, 171, 184, 149, 24, 59, 68, 199, 78, 65, 89, 86, 55, 91, 64, 89]\n",
    "def max(student_scores):\n",
    "    a=0\n",
    "    for i in student_scores:\n",
    "        if i > a:\n",
    "            a=i\n",
    "    print(a)\n",
    "max(student_scores)\n",
    "    \n",
    "\n",
    "            \n",
    "    "
   ]
  },
  {
   "cell_type": "markdown",
   "id": "b1130826-ea51-4264-9e70-59698aa9d9e4",
   "metadata": {},
   "source": [
    "#Write a Python function to sum all the numbers in a list.  Sample List : [8, 2, 3, 0, 7] "
   ]
  },
  {
   "cell_type": "code",
   "execution_count": 51,
   "id": "b2f6b355-0589-47f7-8ee4-d9f4127d298e",
   "metadata": {},
   "outputs": [
    {
     "name": "stdout",
     "output_type": "stream",
     "text": [
      "20\n"
     ]
    }
   ],
   "source": [
    "\n",
    "\n",
    "def add (list):\n",
    "    sum=0\n",
    "    for i in  list:\n",
    "        sum+=i\n",
    "    print(sum)\n",
    "\n",
    "num=[8,2,3,0,7]\n",
    "add(num)\n",
    "    \n",
    "   \n",
    "        "
   ]
  },
  {
   "cell_type": "markdown",
   "id": "379eed76-8432-4622-9dfd-a54e2595dc89",
   "metadata": {},
   "source": [
    "3)Write a Python function that takes a list and returns a new list with distinct elements from the first list.  Sample List : [1,2,3,3,3,3,4,5]"
   ]
  },
  {
   "cell_type": "code",
   "execution_count": 81,
   "id": "66c59178-3e0e-44b3-b52d-a25aea18bc14",
   "metadata": {},
   "outputs": [
    {
     "name": "stdout",
     "output_type": "stream",
     "text": [
      "[1, 2, 3, 4, 5]\n"
     ]
    }
   ],
   "source": [
    "a= [1,2,3,3,3,3,4,5]\n",
    "#b=[]\n",
    "def new_list(a):\n",
    "    b=[]\n",
    "    b=list(set(a))\n",
    "    print(b)\n",
    "new_list(a)"
   ]
  },
  {
   "cell_type": "code",
   "execution_count": null,
   "id": "7185fdb6-ff52-4b13-b488-93c8b81aa9ae",
   "metadata": {},
   "outputs": [],
   "source": [
    "#Write a Python function total number of  Combinations"
   ]
  },
  {
   "cell_type": "code",
   "execution_count": 97,
   "id": "c6b9faff-8bdd-465a-bb1e-b36a364658d8",
   "metadata": {},
   "outputs": [
    {
     "name": "stdin",
     "output_type": "stream",
     "text": [
      "enter the numbers 0001\n"
     ]
    },
    {
     "name": "stdout",
     "output_type": "stream",
     "text": [
      "0 0 0 0\n",
      "0 0 0 0\n",
      "0 0 0 1\n",
      "0 0 0 0\n",
      "0 0 0 1\n",
      "0 0 1 0\n",
      "0 0 1 0\n",
      "0 0 0 0\n",
      "0 0 0 0\n",
      "0 0 0 1\n",
      "0 0 0 0\n",
      "0 0 0 1\n",
      "0 0 1 0\n",
      "0 0 1 0\n",
      "0 1 0 0\n",
      "0 1 0 0\n",
      "0 1 0 1\n",
      "0 1 0 0\n",
      "0 1 0 1\n",
      "0 1 0 0\n",
      "0 1 0 1\n",
      "0 0 0 0\n",
      "0 0 0 0\n",
      "0 0 0 1\n",
      "0 0 0 0\n",
      "0 0 0 1\n",
      "0 0 1 0\n",
      "0 0 1 0\n",
      "0 0 0 0\n",
      "0 0 0 1\n",
      "0 0 0 0\n",
      "0 0 0 0\n",
      "0 0 0 1\n",
      "0 0 1 0\n",
      "0 0 1 0\n",
      "0 1 0 0\n",
      "0 1 0 1\n",
      "0 1 0 0\n",
      "0 1 0 0\n",
      "0 1 0 1\n",
      "0 1 0 0\n",
      "0 1 0 1\n",
      "0 0 0 0\n",
      "0 0 0 1\n",
      "0 0 0 0\n",
      "0 0 0 0\n",
      "0 0 0 1\n",
      "0 0 1 0\n",
      "0 0 1 0\n",
      "0 0 0 0\n",
      "0 0 0 1\n",
      "0 0 0 0\n",
      "0 0 0 0\n",
      "0 0 0 1\n",
      "0 0 1 0\n",
      "0 0 1 0\n",
      "0 1 0 0\n",
      "0 1 0 1\n",
      "0 1 0 0\n",
      "0 1 0 1\n",
      "0 1 0 0\n",
      "0 1 0 0\n",
      "0 1 0 1\n",
      "1 0 0 0\n",
      "1 0 0 0\n",
      "1 0 0 0\n",
      "1 0 0 0\n",
      "1 0 1 0\n",
      "1 0 1 0\n",
      "1 0 1 0\n",
      "1 0 0 0\n",
      "1 0 0 0\n",
      "1 0 0 0\n",
      "1 0 0 0\n",
      "1 0 1 0\n",
      "1 0 1 0\n",
      "1 0 1 0\n",
      "1 0 0 0\n",
      "1 0 0 0\n",
      "1 0 0 0\n",
      "1 0 0 0\n",
      "1 0 1 0\n",
      "1 0 1 0\n",
      "1 0 1 0\n"
     ]
    }
   ],
   "source": [
    "def comb(L):       \n",
    "    for i in range(4): \n",
    "        for j in range(4): \n",
    "            for k in range(4):\n",
    "                for l in range(4):\n",
    "                    if (i!=j and j!=k and k!=l and l!=i): \n",
    "                        print(L[i], L[j], L[k],L[l])\n",
    "                    \n",
    "                \n",
    "comb(input(\"enter the numbers\"))"
   ]
  },
  {
   "cell_type": "markdown",
   "id": "9c3ab101-28ac-4944-ab45-755de2d32fc4",
   "metadata": {},
   "source": [
    "#Write a Python function total number of  permutation \n",
    "Ex. a,b,c"
   ]
  },
  {
   "cell_type": "code",
   "execution_count": 127,
   "id": "c09ab694-7d6a-4ba9-9a10-a58c7583b925",
   "metadata": {},
   "outputs": [
    {
     "name": "stdout",
     "output_type": "stream",
     "text": [
      "['abc', 'acb', 'bac', 'bca', 'cab', 'cba']\n"
     ]
    }
   ],
   "source": [
    "import itertools\n",
    "\n",
    "s = \"abc\"\n",
    "li = [''.join(p) for p in itertools.permutations(s)]\n",
    "print(li)"
   ]
  },
  {
   "cell_type": "markdown",
   "id": "135f6501-45a0-4607-9538-054317873daa",
   "metadata": {},
   "source": [
    "#Define a function which counts vowels and consonant in a word.\n",
    "  input :  statistics"
   ]
  },
  {
   "cell_type": "code",
   "execution_count": 125,
   "id": "ec5b1e8c-9f3c-4c4a-9b3f-0c45628d7af4",
   "metadata": {},
   "outputs": [
    {
     "name": "stdin",
     "output_type": "stream",
     "text": [
      "enter monty mohan ery\n"
     ]
    },
    {
     "name": "stdout",
     "output_type": "stream",
     "text": [
      "Count of vowels is = 4\n",
      "Count of consonants is = 11\n"
     ]
    }
   ],
   "source": [
    "def alphabets(word):\n",
    "    vowels=\"aeiouAEIOU\"\n",
    "    vowel_count=0\n",
    "    consonant_count=0\n",
    "    for char in word:\n",
    "        if char in vowels:\n",
    "            vowel_count+=1\n",
    "        else:\n",
    "            consonant_count+=1\n",
    "    print(f\"Count of vowels is = {vowel_count}\")\n",
    "    print(f\"Count of consonants is = {consonant_count}\")\n",
    "\n",
    "alphabets(input(\"enter\"))"
   ]
  },
  {
   "cell_type": "markdown",
   "id": "d13eb854-8489-4001-9951-7f41c387a749",
   "metadata": {},
   "source": [
    "#Define a function that accepts lowercase words and returns uppercase words.\n",
    " Input:= statistics \n",
    "Expected output  Result is = STATISTICS "
   ]
  },
  {
   "cell_type": "code",
   "execution_count": 133,
   "id": "14710877-f7bb-4c64-bf4c-e868b57569bd",
   "metadata": {},
   "outputs": [
    {
     "name": "stdin",
     "output_type": "stream",
     "text": [
      "enter  word in capital letter MONTY MOHAN ERY\n"
     ]
    },
    {
     "name": "stdout",
     "output_type": "stream",
     "text": [
      "monty mohan ery\n"
     ]
    }
   ],
   "source": [
    "word=input(\"enter  word in capital letter\")\n",
    "def upper (word):\n",
    "    uppercase_text = word.lower()\n",
    "    print(uppercase_text)\n",
    "upper(word)"
   ]
  },
  {
   "cell_type": "markdown",
   "id": "3311a047-90cc-468a-8e09-75d38686ec1b",
   "metadata": {},
   "source": [
    "#count lower case and upper case  letter.\n",
    "Ex : STatiStiCS"
   ]
  },
  {
   "cell_type": "code",
   "execution_count": 152,
   "id": "737683b6-d78d-424c-9a83-1e272d02f549",
   "metadata": {},
   "outputs": [
    {
     "name": "stdout",
     "output_type": "stream",
     "text": [
      "Uppercase letters are 5\n",
      "Lowercase letters are 5\n"
     ]
    }
   ],
   "source": [
    "word = \"STatiStiCS\"\n",
    "\n",
    "def alphabets(word):\n",
    "    low = 0\n",
    "    up = 0\n",
    "    for i in word:\n",
    "        if i.islower():\n",
    "            low += 1\n",
    "        else:\n",
    "            up += 1\n",
    "    print(\"Uppercase letters are\", up)\n",
    "    print(\"Lowercase letters are\", low)\n",
    "\n",
    "alphabets(word)\n",
    "\n",
    "    "
   ]
  },
  {
   "cell_type": "code",
   "execution_count": null,
   "id": "d140bd91-0cf9-4178-b559-7380de754004",
   "metadata": {},
   "outputs": [],
   "source": []
  }
 ],
 "metadata": {
  "kernelspec": {
   "display_name": "Python 3 (ipykernel)",
   "language": "python",
   "name": "python3"
  },
  "language_info": {
   "codemirror_mode": {
    "name": "ipython",
    "version": 3
   },
   "file_extension": ".py",
   "mimetype": "text/x-python",
   "name": "python",
   "nbconvert_exporter": "python",
   "pygments_lexer": "ipython3",
   "version": "3.12.7"
  }
 },
 "nbformat": 4,
 "nbformat_minor": 5
}
