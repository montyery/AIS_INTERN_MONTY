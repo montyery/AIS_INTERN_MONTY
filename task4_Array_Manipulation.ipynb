{
 "cells": [
  {
   "cell_type": "markdown",
   "id": "fc4053f8-36de-424d-89a6-8c71e19a8f87",
   "metadata": {},
   "source": [
    "# Array Manipulation"
   ]
  },
  {
   "cell_type": "markdown",
   "id": "bc411a05-fcbd-4aeb-a0cc-6a97431792d4",
   "metadata": {},
   "source": [
    "#### indexing and slicing"
   ]
  },
  {
   "cell_type": "code",
   "execution_count": 3,
   "id": "6d58c64c-1530-45f4-83da-a9811912d355",
   "metadata": {},
   "outputs": [
    {
     "name": "stdout",
     "output_type": "stream",
     "text": [
      "6\n",
      "[4 5 6]\n",
      "[3 6 9]\n",
      "[[2 3]\n",
      " [5 6]]\n"
     ]
    }
   ],
   "source": [
    "import numpy as np\n",
    "arr = np.array([[1, 2, 3],\n",
    "                [4, 5, 6],\n",
    "                [7, 8, 9]])\n",
    "print(arr[1, 2])  \n",
    "print(arr[1, :])  \n",
    "print(arr[:, 2])  \n",
    "print(arr[0:2, 1:3]) "
   ]
  },
  {
   "cell_type": "markdown",
   "id": "498fd156-22d0-4ac7-9641-ba715a84b832",
   "metadata": {},
   "source": [
    "#### Masking "
   ]
  },
  {
   "cell_type": "code",
   "execution_count": 2,
   "id": "1c679d2f-b147-4c03-a28d-d49d849e879b",
   "metadata": {},
   "outputs": [
    {
     "name": "stdout",
     "output_type": "stream",
     "text": [
      "[False False False  True  True  True]\n",
      "[4 5 6]\n",
      "[1 0 3 0 5 0]\n"
     ]
    }
   ],
   "source": [
    "\n",
    "arr = np.array([1, 2, 3, 4, 5, 6])\n",
    "mask = arr > 3\n",
    "print(mask) \n",
    "print(arr[mask])  # Output: [4 5 6]\n",
    "arr[arr % 2 == 0] = 0\n",
    "print(arr)  # Output: [1 0 3 0 5 0]"
   ]
  },
  {
   "cell_type": "markdown",
   "id": "8646da7d-3161-4c90-9645-062977a89c30",
   "metadata": {},
   "source": [
    " #### Fancy indexing"
   ]
  },
  {
   "cell_type": "code",
   "execution_count": 5,
   "id": "c1a9c265-840b-4034-84ee-999680a93ade",
   "metadata": {},
   "outputs": [
    {
     "name": "stdout",
     "output_type": "stream",
     "text": [
      "[10 30 50]\n",
      "[3 4 8]\n"
     ]
    }
   ],
   "source": [
    "arr = np.array([10, 20, 30, 40, 50])\n",
    "\n",
    "\n",
    "indices = [0, 2, 4]\n",
    "print(arr[indices]) \n",
    "arr_2d = np.array([[1, 2, 3],\n",
    "                   [4, 5, 6],\n",
    "                   [7, 8, 9]])\n",
    "\n",
    "rows = [0, 1, 2]\n",
    "cols = [2, 0, 1]\n",
    "print(arr_2d[rows, cols]) "
   ]
  },
  {
   "cell_type": "code",
   "execution_count": null,
   "id": "c170525d-fc17-4eb7-9728-8b171a49a49f",
   "metadata": {},
   "outputs": [],
   "source": []
  }
 ],
 "metadata": {
  "kernelspec": {
   "display_name": "Python 3 (ipykernel)",
   "language": "python",
   "name": "python3"
  },
  "language_info": {
   "codemirror_mode": {
    "name": "ipython",
    "version": 3
   },
   "file_extension": ".py",
   "mimetype": "text/x-python",
   "name": "python",
   "nbconvert_exporter": "python",
   "pygments_lexer": "ipython3",
   "version": "3.12.0b4"
  }
 },
 "nbformat": 4,
 "nbformat_minor": 5
}
