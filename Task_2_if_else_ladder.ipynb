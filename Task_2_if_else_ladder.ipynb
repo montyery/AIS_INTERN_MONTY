{
 "cells": [
  {
   "cell_type": "code",
   "execution_count": null,
   "id": "9402db9d-2f56-4cc5-8c0c-33495166fd01",
   "metadata": {},
   "outputs": [],
   "source": [
    "#if else ladder "
   ]
  },
  {
   "cell_type": "code",
   "execution_count": null,
   "id": "4feeddd1-1e75-4501-8bfe-d2c8f756b377",
   "metadata": {},
   "outputs": [],
   "source": [
    "marks=int(input(\"enter your marks \"))"
   ]
  },
  {
   "cell_type": "code",
   "execution_count": 5,
   "id": "dce5b5e9-c0f8-4a55-b87a-4d2a1c3b35dc",
   "metadata": {},
   "outputs": [
    {
     "name": "stdin",
     "output_type": "stream",
     "text": [
      "enter your marks  77\n"
     ]
    },
    {
     "name": "stdout",
     "output_type": "stream",
     "text": [
      "o:outstanding\n"
     ]
    }
   ],
   "source": [
    "marks=int(input(\"enter your marks \"))\n",
    "if marks>75:\n",
    "    print(\"o:outstanding\")\n",
    "elif marks>60 and marks<75:\n",
    "    print(\"A: A grade\")\n",
    "elif marks>=50 and marks<=60:\n",
    "    print(\"B grade \")\n",
    "elif marks>=35 and marks<=50:\n",
    "    print(\"C grade\")\n",
    "else:\n",
    "    print(\"you have failed\")"
   ]
  },
  {
   "cell_type": "code",
   "execution_count": 25,
   "id": "cbff040c-706c-4f33-933b-359df0e43a33",
   "metadata": {},
   "outputs": [
    {
     "name": "stdin",
     "output_type": "stream",
     "text": [
      "whats ur age? 2\n"
     ]
    },
    {
     "name": "stdout",
     "output_type": "stream",
     "text": [
      "child ticket are  $12\n"
     ]
    }
   ],
   "source": [
    "age=int(input(\"whats ur age?\"))\n",
    "\n",
    "if age <=12:\n",
    "    bill=5\n",
    "    print(\"child ticket are  $12\")\n",
    "elif age <18:\n",
    "    bill=7\n",
    "    print(\"youth ticket are $5\")\n",
    "else:\n",
    "    bill=12\n",
    "    print(\"adult ticket are $7 \")"
   ]
  },
  {
   "cell_type": "code",
   "execution_count": 11,
   "id": "409b1cfe-8276-43bd-b7cb-69398c48fb09",
   "metadata": {},
   "outputs": [
    {
     "name": "stdout",
     "output_type": "stream",
     "text": [
      "n is not divisible by 2 and 3\n"
     ]
    }
   ],
   "source": [
    "n=7\n",
    "if n%2==0 and n%3==0:\n",
    "    print(\"n is divisible by 2 and 3 \")\n",
    "elif n%2==0 :\n",
    "    print(\"n is divisible by 2\")\n",
    "elif n%3==0:\n",
    "    print(\"n is divisible by 3\")\n",
    "else:\n",
    "    print(\"n is not divisible by 2 and 3\")\n"
   ]
  },
  {
   "cell_type": "code",
   "execution_count": null,
   "id": "1b20bc20-9777-46d7-9061-1e9a5bd46e39",
   "metadata": {},
   "outputs": [],
   "source": []
  },
  {
   "cell_type": "code",
   "execution_count": 15,
   "id": "c6c4e5d5-a964-4be2-9116-1a82047ff55b",
   "metadata": {},
   "outputs": [
    {
     "name": "stdin",
     "output_type": "stream",
     "text": [
      "whats ur age? 45\n"
     ]
    },
    {
     "name": "stdout",
     "output_type": "stream",
     "text": [
      "adult ticket are $7 \n"
     ]
    }
   ],
   "source": []
  },
  {
   "cell_type": "code",
   "execution_count": null,
   "id": "944efdaf-720f-4064-96f2-fc84c269b0fd",
   "metadata": {},
   "outputs": [],
   "source": []
  },
  {
   "cell_type": "code",
   "execution_count": 23,
   "id": "88462c83-aab0-46f3-aed5-25995946420c",
   "metadata": {},
   "outputs": [
    {
     "name": "stdin",
     "output_type": "stream",
     "text": [
      "enter a num 7\n"
     ]
    },
    {
     "name": "stdout",
     "output_type": "stream",
     "text": [
      "no is odd\n"
     ]
    }
   ],
   "source": [
    "num=int(input(\"enter a num\"))\n",
    "if num % 2 == 0:\n",
    "    print(\"no is even\")\n",
    "elif num%2==1:\n",
    "    print(\"no is odd\")\n",
    "else:\n",
    "    print(\"neither an odd nor an even number. \")\n"
   ]
  },
  {
   "cell_type": "code",
   "execution_count": null,
   "id": "2cecd5d3-0142-467f-9754-18a1b58ffbcc",
   "metadata": {},
   "outputs": [],
   "source": []
  },
  {
   "cell_type": "code",
   "execution_count": 31,
   "id": "297947ef-1770-419c-a416-d07c5a3e42a1",
   "metadata": {},
   "outputs": [
    {
     "name": "stdin",
     "output_type": "stream",
     "text": [
      "enter ur age 17\n"
     ]
    },
    {
     "name": "stdout",
     "output_type": "stream",
     "text": [
      "you can apply for learner license\n"
     ]
    }
   ],
   "source": [
    "age=int(input(\"enter ur age\"))\n",
    "if age >=18:\n",
    "    print(\" You can also apply for a driving license for a motor vehicle other than a transport vehicle.\")\n",
    "elif age>16 and age <=18:\n",
    "    print(\"you can apply for learner license\")\n",
    "else:\n",
    "    print(\"sorry u are short of age\")\n",
    "    \n",
    "    "
   ]
  },
  {
   "cell_type": "code",
   "execution_count": null,
   "id": "dcd7252f-ff7e-4392-a175-1615849efca6",
   "metadata": {},
   "outputs": [],
   "source": []
  },
  {
   "cell_type": "code",
   "execution_count": 57,
   "id": "5f82f74f-99c6-4fc3-9150-97d9a8928113",
   "metadata": {},
   "outputs": [
    {
     "name": "stdin",
     "output_type": "stream",
     "text": [
      "enter a valid std between 1 to 12 13\n"
     ]
    },
    {
     "name": "stdout",
     "output_type": "stream",
     "text": [
      "not in school\n"
     ]
    }
   ],
   "source": [
    "std=int(input(\"enter a valid std between 1 to 12\"))\n",
    "if std <= 3:\n",
    "    print(\"he is preschool\")\n",
    "elif std <= 7:\n",
    "    print(\"school\")\n",
    "elif std <= 12:\n",
    "    print(\"high school\")\n",
    "else:\n",
    "    print(\"not in school\")"
   ]
  },
  {
   "cell_type": "code",
   "execution_count": null,
   "id": "9211b370-c1ec-4395-ba2d-b8c63c91732b",
   "metadata": {},
   "outputs": [],
   "source": []
  }
 ],
 "metadata": {
  "kernelspec": {
   "display_name": "Python 3 (ipykernel)",
   "language": "python",
   "name": "python3"
  },
  "language_info": {
   "codemirror_mode": {
    "name": "ipython",
    "version": 3
   },
   "file_extension": ".py",
   "mimetype": "text/x-python",
   "name": "python",
   "nbconvert_exporter": "python",
   "pygments_lexer": "ipython3",
   "version": "3.12.7"
  }
 },
 "nbformat": 4,
 "nbformat_minor": 5
}
