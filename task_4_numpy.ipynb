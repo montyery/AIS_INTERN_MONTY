{
 "cells": [
  {
   "cell_type": "markdown",
   "id": "9bf1f6a3-d96e-4386-8516-ff1603f2d711",
   "metadata": {},
   "source": [
    "1. Introduction to NumPy"
   ]
  },
  {
   "cell_type": "markdown",
   "id": "2a217ff2-4b9b-4c5f-b442-414bf0b3e056",
   "metadata": {},
   "source": [
    "What NumPy is and why it’s important for numerical computations in Python"
   ]
  },
  {
   "cell_type": "code",
   "execution_count": null,
   "id": "4b07c97c-2593-4e69-86f6-ba6f419642d9",
   "metadata": {},
   "outputs": [],
   "source": [
    "NumPy is a Python library used for working with arrays."
   ]
  },
  {
   "cell_type": "markdown",
   "id": "ad7e0c92-5bdb-4c74-99ee-a6dadb91ddf0",
   "metadata": {},
   "source": [
    "NumPy aims to provide an array object that is up to 50x faster than traditional Python lists."
   ]
  },
  {
   "cell_type": "code",
   "execution_count": null,
   "id": "e75068e7-fc1e-4aaa-8d39-e0992cd3a90a",
   "metadata": {},
   "outputs": [],
   "source": []
  },
  {
   "cell_type": "markdown",
   "id": "13b72dd1-986b-476b-96a7-bd7d11eb072d",
   "metadata": {},
   "source": [
    "2.Installation of NumPy (pip install numpy)"
   ]
  },
  {
   "cell_type": "markdown",
   "id": "537c76a4-a675-45e5-b1d3-f5de1391228c",
   "metadata": {},
   "source": [
    "\n",
    "C:\\Users\\hp>pip install numpy\n",
    "Defaulting to user installation because normal site-packages is not writeable\n",
    "Requirement already satisfied: numpy in c:\\users\\hp\\appdata\\roaming\\python\\python312\\site-packages (2.1.3)"
   ]
  },
  {
   "cell_type": "markdown",
   "id": "1e48d54f-f3d9-4ce4-a3ab-6990198b2a4f",
   "metadata": {},
   "source": [
    "3.Understanding its role in data science, machine learning, and scientific computing.\n"
   ]
  },
  {
   "cell_type": "markdown",
   "id": "3074ec08-e0ed-46fe-af47-deb638f4a91d",
   "metadata": {},
   "source": [
    "it help's in understand complex problem and gain insights,\n",
    "providing efficient tools for handling large,\n",
    "multidimensional arrays and performing complex mathematical operations on them"
   ]
  }
 ],
 "metadata": {
  "kernelspec": {
   "display_name": "Python 3 (ipykernel)",
   "language": "python",
   "name": "python3"
  },
  "language_info": {
   "codemirror_mode": {
    "name": "ipython",
    "version": 3
   },
   "file_extension": ".py",
   "mimetype": "text/x-python",
   "name": "python",
   "nbconvert_exporter": "python",
   "pygments_lexer": "ipython3",
   "version": "3.12.7"
  }
 },
 "nbformat": 4,
 "nbformat_minor": 5
}
