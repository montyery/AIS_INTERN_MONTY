{
 "cells": [
  {
   "cell_type": "markdown",
   "id": "ce48fe89-acec-4883-9382-0d43b1a2c1ba",
   "metadata": {},
   "source": [
    "# identation error "
   ]
  },
  {
   "cell_type": "code",
   "execution_count": null,
   "id": "462aaa87-3c99-437b-a44e-dd322b924c97",
   "metadata": {},
   "outputs": [],
   "source": [
    "if x > 5:\n",
    "print(\"x is greater than 5\") # identation error \n",
    "\n",
    "\n",
    "\n",
    "\n",
    "\n",
    "\n",
    "\n",
    "\n",
    "\n"
   ]
  },
  {
   "cell_type": "markdown",
   "id": "e3bf649a-2194-473f-b58a-46b6d5e41bd9",
   "metadata": {},
   "source": [
    "# name error "
   ]
  },
  {
   "cell_type": "code",
   "execution_count": null,
   "id": "661bb8f8-9e95-4693-a8b8-9bf2fbecaec4",
   "metadata": {},
   "outputs": [],
   "source": [
    "\n",
    "my_variable = 10\n",
    "print(my_varible) # name error variable spelling wrong"
   ]
  },
  {
   "cell_type": "markdown",
   "id": "92e477a5-99ea-4433-a969-5aafc0523195",
   "metadata": {},
   "source": [
    "# value error "
   ]
  },
  {
   "cell_type": "code",
   "execution_count": null,
   "id": "486457e1-3228-4e79-82d1-40572df886c0",
   "metadata": {},
   "outputs": [],
   "source": [
    "my_list = [1, 2, 3]\n",
    "   my_list[5]  #no 5 in the list"
   ]
  },
  {
   "cell_type": "markdown",
   "id": "e51007e2-56ec-4a09-a771-33af44935842",
   "metadata": {},
   "source": [
    "#  type errror "
   ]
  },
  {
   "cell_type": "code",
   "execution_count": null,
   "id": "0f5b9c62-16a6-4737-be3d-445efd66403e",
   "metadata": {},
   "outputs": [],
   "source": [
    "#  type errror \n",
    "print(\"1\" + 2  ) # string and no can't be added "
   ]
  },
  {
   "cell_type": "markdown",
   "id": "aaa1cf83-e4d1-4f5b-b47c-9d47031e8ea6",
   "metadata": {},
   "source": [
    "# index error "
   ]
  },
  {
   "cell_type": "code",
   "execution_count": null,
   "id": "52053119-07c3-4f89-a178-b8fd2871e3c9",
   "metadata": {},
   "outputs": [],
   "source": [
    "my_list = [1, 2, 3]  # index error \n",
    "print(my_list[3])"
   ]
  },
  {
   "cell_type": "markdown",
   "id": "3b139ded-5020-419a-ac8c-5368a6c3eda5",
   "metadata": {},
   "source": [
    "#keyerror "
   ]
  },
  {
   "cell_type": "code",
   "execution_count": null,
   "id": "8e6edd66-9dd3-4937-aeb7-e8e5d81556b3",
   "metadata": {},
   "outputs": [],
   "source": [
    "#keyerror \n",
    "my_dict = {'name': 'Alice', 'age': 30}\n",
    "print(my_dict['city']) #declare key\n"
   ]
  }
 ],
 "metadata": {
  "kernelspec": {
   "display_name": "Python 3 (ipykernel)",
   "language": "python",
   "name": "python3"
  },
  "language_info": {
   "codemirror_mode": {
    "name": "ipython",
    "version": 3
   },
   "file_extension": ".py",
   "mimetype": "text/x-python",
   "name": "python",
   "nbconvert_exporter": "python",
   "pygments_lexer": "ipython3",
   "version": "3.12.7"
  }
 },
 "nbformat": 4,
 "nbformat_minor": 5
}
