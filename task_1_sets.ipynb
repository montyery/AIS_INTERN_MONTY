{
 "cells": [
  {
   "cell_type": "markdown",
   "id": "9be0748a-e723-4545-8d64-a8746d71f69a",
   "metadata": {},
   "source": [
    "# sets "
   ]
  },
  {
   "cell_type": "markdown",
   "id": "4805f48a-648b-4859-8f9a-97cdddef7531",
   "metadata": {},
   "source": [
    "# calling of the set \n"
   ]
  },
  {
   "cell_type": "code",
   "execution_count": 2,
   "id": "e36fbaf1-4a08-4f20-bfff-3fbcb429509c",
   "metadata": {},
   "outputs": [
    {
     "name": "stdout",
     "output_type": "stream",
     "text": [
      "{2, 4, 6, 8, 10, 12, 14, 16, 18}\n",
      "{2, 98, 4, 6, 8, 10, 12, 14, 16, 18}\n",
      "{2, 98, 4, 6, 10, 12, 14, 16, 18}\n",
      "{1, 2, 3, 4, 5, 6, 7, 9, 10, 11, 12, 13, 14, 16, 18, 98}\n"
     ]
    }
   ],
   "source": [
    "even_no={2,4,6,8,10,12,14,16,18}\n",
    "print(even_no) # calling of the set \n",
    "\n"
   ]
  },
  {
   "cell_type": "markdown",
   "id": "65d94633-e06c-4a84-a64d-09144586863d",
   "metadata": {},
   "source": [
    "# insert element in a set "
   ]
  },
  {
   "cell_type": "code",
   "execution_count": null,
   "id": "0e91f41e-60dc-4443-a4bb-d39e13b65cf1",
   "metadata": {},
   "outputs": [],
   "source": [
    "even_no={2,4,6,8,10,12,14,16,18} \n",
    "even_no.add(98) # insert element in a set \n",
    "print(even_no)"
   ]
  },
  {
   "cell_type": "markdown",
   "id": "d014a421-c751-4975-9e6a-37ea47d04d83",
   "metadata": {},
   "source": [
    "# remove element in a set "
   ]
  },
  {
   "cell_type": "code",
   "execution_count": null,
   "id": "61c086f9-8eff-46d5-b533-52f2e18aa308",
   "metadata": {},
   "outputs": [],
   "source": [
    "even_no={2,4,6,8,10,12,14,16,18}\n",
    "even_no.remove(8) # remove element in a set \n",
    "print(even_no)"
   ]
  },
  {
   "cell_type": "markdown",
   "id": "725123f5-36b4-4bfd-8a83-8a587e6f9927",
   "metadata": {},
   "source": [
    "#union set"
   ]
  },
  {
   "cell_type": "code",
   "execution_count": 8,
   "id": "81f5b9fc-39cf-4981-8236-6db3ee758e0f",
   "metadata": {},
   "outputs": [
    {
     "name": "stdout",
     "output_type": "stream",
     "text": [
      "{1, 2, 3, 4, 5, 6, 7, 8, 9, 10, 11, 12, 13, 14, 16, 18}\n"
     ]
    }
   ],
   "source": [
    "even_no={2,4,6,8,10,12,14,16,18}\n",
    "odd_no={1,3,5,7,9,11,13}\n",
    "num=odd_no.union(even_no) \n",
    "print(num)"
   ]
  },
  {
   "cell_type": "code",
   "execution_count": null,
   "id": "eae61410-953f-477b-bf75-6dd28c0e7cb6",
   "metadata": {},
   "outputs": [],
   "source": []
  }
 ],
 "metadata": {
  "kernelspec": {
   "display_name": "Python 3 (ipykernel)",
   "language": "python",
   "name": "python3"
  },
  "language_info": {
   "codemirror_mode": {
    "name": "ipython",
    "version": 3
   },
   "file_extension": ".py",
   "mimetype": "text/x-python",
   "name": "python",
   "nbconvert_exporter": "python",
   "pygments_lexer": "ipython3",
   "version": "3.12.7"
  }
 },
 "nbformat": 4,
 "nbformat_minor": 5
}
