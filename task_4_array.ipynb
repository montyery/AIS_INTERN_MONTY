{
 "cells": [
  {
   "cell_type": "markdown",
   "id": "878aaa21-1abf-4b3c-bbfd-8091d7c85ea6",
   "metadata": {},
   "source": [
    "#Arrays in NumPy"
   ]
  },
  {
   "cell_type": "code",
   "execution_count": null,
   "id": "262825c1-1cad-4688-a0fd-1b98f2260f0f",
   "metadata": {},
   "outputs": [],
   "source": [
    "ndarray refers to a multi-dimensional array object within the NumPy library in Python"
   ]
  },
  {
   "cell_type": "code",
   "execution_count": 1,
   "id": "cb731f71-c7fb-48ab-8e47-17e5156f7af8",
   "metadata": {},
   "outputs": [
    {
     "name": "stdout",
     "output_type": "stream",
     "text": [
      "[1 2 3 4 5]\n",
      "4\n",
      "[2 3]\n",
      "<class 'numpy.ndarray'>\n"
     ]
    }
   ],
   "source": [
    "import numpy as np\n",
    "\n",
    "arr = np.array([1, 2, 3, 4, 5])\n",
    "\n",
    "print(arr)\n",
    "\n",
    "print(arr[3]) #indexing\n",
    "print(arr[1:3]) #slicing\n",
    "print(type(arr))"
   ]
  },
  {
   "cell_type": "code",
   "execution_count": null,
   "id": "86cc39ce-75d1-4d89-bf9c-7e107db038f1",
   "metadata": {},
   "outputs": [],
   "source": []
  },
  {
   "cell_type": "markdown",
   "id": "fb1a986e-9197-4281-a50f-6435cec03f45",
   "metadata": {},
   "source": [
    "Creating arrays using np.array()"
   ]
  },
  {
   "cell_type": "markdown",
   "id": "5f935903-cbfe-4712-9862-d7a179ab58b6",
   "metadata": {},
   "source": [
    "Creating arrays using np.array(), np.zeros(), np.ones(), np.arange(), and np.linspace()."
   ]
  },
  {
   "cell_type": "code",
   "execution_count": 14,
   "id": "75c14898-2503-4a36-b4f0-e59424b53352",
   "metadata": {},
   "outputs": [
    {
     "name": "stdout",
     "output_type": "stream",
     "text": [
      "32\n",
      "[1 2 3 4 5]\n",
      "[[1 2]\n",
      " [3 4]]\n",
      "[[1 2]\n",
      " [3 4]\n",
      " [6 7]]\n"
     ]
    }
   ],
   "source": [
    "import numpy as np \n",
    "\n",
    "my_0D_array=np.array(32)\n",
    "print(my_0D_array)\n",
    "my_1D_array = np.array([1, 2, 3, 4, 5])  # Creating a 1-dimensional array\n",
    "\n",
    "print(my_1D_array) \n",
    "print(arr[3]) #indexing\n",
    "print(arr[1:3]) #slicing\n",
    "\n",
    "\n",
    "my_2D_array = np.array([[1, 2], [3, 4]]) # Creating a 2-dimensional array\n",
    "\n",
    "print(my_2D_array) \n",
    "print(arr[1:3]) #slicing\n",
    "my_3D_array = np.array([[1, 2], [3, 4],[6,7]]) # Creating a 3-dimensional array\n",
    "print(arr[1:3]) #slicing\n",
    "print(my_3D_array) "
   ]
  },
  {
   "cell_type": "code",
   "execution_count": null,
   "id": "12cc12bc-d2c0-4712-b131-3221972f536d",
   "metadata": {},
   "outputs": [],
   "source": []
  },
  {
   "cell_type": "code",
   "execution_count": null,
   "id": "1fd6980b-aa1e-4893-a154-7301a8f50edd",
   "metadata": {},
   "outputs": [],
   "source": [
    "Creating arrays using  np.zeros()"
   ]
  },
  {
   "cell_type": "code",
   "execution_count": 60,
   "id": "f6fd16c9-d38a-407a-b804-83efbf4da508",
   "metadata": {},
   "outputs": [
    {
     "name": "stdout",
     "output_type": "stream",
     "text": [
      "[0. 0. 0. 0. 0. 0. 0. 0. 0. 0.]\n",
      "[0. 0.]\n",
      "[0. 0. 2. 0. 0. 0. 0. 0. 0. 0.]\n"
     ]
    }
   ],
   "source": [
    "import numpy as np \n",
    "arr=np.zeros(10)\n",
    "print(arr)\n",
    "print(arr[3]) #indexing\n",
    "print(arr[1:3]) #slicing\n",
    "arr[2]=2\n",
    "print(arr)"
   ]
  },
  {
   "cell_type": "code",
   "execution_count": 62,
   "id": "d6e00e62-aa32-44ad-b422-04286bfff226",
   "metadata": {},
   "outputs": [
    {
     "name": "stdout",
     "output_type": "stream",
     "text": [
      "[1. 1. 1. 1. 1. 1. 1. 1. 1. 1.]\n",
      "[1. 1. 2. 1. 1. 1. 1. 1. 1. 1.]\n",
      "[1. 2.]\n"
     ]
    }
   ],
   "source": [
    "import numpy as np \n",
    "arr=np.ones(10)\n",
    "\n",
    "print(arr)\n",
    "\n",
    "arr[2]=2\n",
    "print(arr)\n",
    "print(arr[3]) #indexing\n",
    "print(arr[1:3]) #slicing"
   ]
  },
  {
   "cell_type": "code",
   "execution_count": null,
   "id": "1b1755f0-2f85-4525-ac13-94b6e53e5204",
   "metadata": {},
   "outputs": [],
   "source": []
  },
  {
   "cell_type": "code",
   "execution_count": 3,
   "id": "2ea815ed-fa30-4944-801e-692607f17145",
   "metadata": {},
   "outputs": [
    {
     "name": "stdout",
     "output_type": "stream",
     "text": [
      "[ 5  6  7  8  9 10 11 12 13 14 15 16 17 18 19 20 21 22 23 24 25 26 27 28\n",
      " 29 30 31 32 33 34 35 36 37 38 39 40 41 42 43 44 45 46 47 48 49 50 51 52\n",
      " 53 54 55 56 57 58 59 60 61 62 63 64 65 66 67 68 69 70 71 72 73 74 75 76\n",
      " 77 78 79 80 81 82 83 84 85 86 87 88 89 90 91 92 93 94 95 96 97 98 99]\n",
      "14\n",
      "[ 5  8 11 14 17 20 23 26 29 32 35 38 41 44 47 50 53 56 59 62 65 68 71 74\n",
      " 77 80 83 86 89 92 95 98]\n"
     ]
    }
   ],
   "source": [
    "import numpy as np \n",
    "\n",
    "arr= np.arange(5 , 100)\n",
    "print(arr)\n",
    "\n",
    "arr= np.arange(5 , 100,3)\n",
    "print(arr[3]) #indexing\n",
    "print(arr)\n"
   ]
  },
  {
   "cell_type": "code",
   "execution_count": null,
   "id": "88dea319-8475-47c3-a6f8-bf3bf394cd66",
   "metadata": {},
   "outputs": [],
   "source": []
  },
  {
   "cell_type": "code",
   "execution_count": 5,
   "id": "f5a90e56-d5b4-43f0-add4-2d0945f9c864",
   "metadata": {},
   "outputs": [
    {
     "name": "stdout",
     "output_type": "stream",
     "text": [
      "1.6666666666666667\n",
      "[0.         0.55555556 1.11111111 1.66666667 2.22222222 2.77777778\n",
      " 3.33333333 3.88888889 4.44444444 5.        ]\n"
     ]
    }
   ],
   "source": [
    "import numpy as np \n",
    "\n",
    "arr= np.linspace(0,5 , 10)\n",
    "print(arr[3]) #indexing\n",
    "print(arr)\n",
    "\n"
   ]
  },
  {
   "cell_type": "code",
   "execution_count": null,
   "id": "07e113f9-2951-4b2b-b859-3cdb2a259879",
   "metadata": {},
   "outputs": [],
   "source": []
  }
 ],
 "metadata": {
  "kernelspec": {
   "display_name": "Python 3 (ipykernel)",
   "language": "python",
   "name": "python3"
  },
  "language_info": {
   "codemirror_mode": {
    "name": "ipython",
    "version": 3
   },
   "file_extension": ".py",
   "mimetype": "text/x-python",
   "name": "python",
   "nbconvert_exporter": "python",
   "pygments_lexer": "ipython3",
   "version": "3.12.7"
  }
 },
 "nbformat": 4,
 "nbformat_minor": 5
}
