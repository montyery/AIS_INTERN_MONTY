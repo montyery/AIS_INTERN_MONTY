{
 "cells": [
  {
   "cell_type": "code",
   "execution_count": null,
   "id": "923d9898-6d73-49ae-a284-7eb748719705",
   "metadata": {},
   "outputs": [],
   "source": []
  },
  {
   "cell_type": "code",
   "execution_count": 11,
   "id": "c8f0d410-dd78-4390-99c4-2accf1b94268",
   "metadata": {},
   "outputs": [
    {
     "name": "stdin",
     "output_type": "stream",
     "text": [
      "enter a num 3\n"
     ]
    },
    {
     "name": "stdout",
     "output_type": "stream",
     "text": [
      "no is +ve \n",
      "no is odd\n"
     ]
    }
   ],
   "source": [
    "a=int(input(\"enter a num\"))\n",
    "if a >0:\n",
    "    print(\"no is +ve \")\n",
    "    if a%2==0:\n",
    "        print(\"no is even \")\n",
    "    if a%2==1:\n",
    "        print(\"no is odd\")\n",
    "\n",
    "        "
   ]
  },
  {
   "cell_type": "code",
   "execution_count": null,
   "id": "c338c9f6-f6eb-497e-a083-b4c972040978",
   "metadata": {},
   "outputs": [],
   "source": []
  },
  {
   "cell_type": "code",
   "execution_count": null,
   "id": "505d66ef-cfad-40a9-97f1-b65db0cdffcf",
   "metadata": {},
   "outputs": [],
   "source": [
    "a = 33\n",
    "b = 200\n",
    "if b > a:\n",
    "  print(\"b is greater than a\")"
   ]
  },
  {
   "cell_type": "code",
   "execution_count": null,
   "id": "3e5059fc-cd17-4d14-9c04-8f6327b155e5",
   "metadata": {},
   "outputs": [],
   "source": []
  },
  {
   "cell_type": "code",
   "execution_count": 23,
   "id": "a54ec1ae-cd43-4586-bcae-c31dd4660f35",
   "metadata": {},
   "outputs": [
    {
     "name": "stdin",
     "output_type": "stream",
     "text": [
      "enter a number between 1 to 100 88\n"
     ]
    }
   ],
   "source": [
    "x = int(input(\"enter a number between 1 to 100\"))\n",
    "\n",
    "if x < 10:\n",
    "    print(\"x is less than 10\")\n",
    "    "
   ]
  },
  {
   "cell_type": "code",
   "execution_count": 25,
   "id": "7603f7b6-51ef-48b6-b31b-d6a981b5120f",
   "metadata": {},
   "outputs": [],
   "source": [
    "x = int(input(\"enter a number between 1 to 100\"))\n",
    "if x < 20:\n",
    "        print(\"x is less than 20 but greater than or equal to 10\")\n",
    "    "
   ]
  },
  {
   "cell_type": "code",
   "execution_count": null,
   "id": "1acf8a2d-a366-41e4-a107-ec83e40eac62",
   "metadata": {},
   "outputs": [],
   "source": [
    "x = int(input(\"enter a number between 1 to 100\"))\n",
    "if x > 20 and x > 30:\n",
    "    print(\"x is greater than 30\")\n"
   ]
  },
  {
   "cell_type": "code",
   "execution_count": null,
   "id": "c973282e-6af8-4f3b-b48e-e69617f060ee",
   "metadata": {},
   "outputs": [],
   "source": []
  }
 ],
 "metadata": {
  "kernelspec": {
   "display_name": "Python 3 (ipykernel)",
   "language": "python",
   "name": "python3"
  },
  "language_info": {
   "codemirror_mode": {
    "name": "ipython",
    "version": 3
   },
   "file_extension": ".py",
   "mimetype": "text/x-python",
   "name": "python",
   "nbconvert_exporter": "python",
   "pygments_lexer": "ipython3",
   "version": "3.12.7"
  }
 },
 "nbformat": 4,
 "nbformat_minor": 5
}
