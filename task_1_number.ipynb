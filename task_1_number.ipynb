{
 "cells": [
  {
   "cell_type": "markdown",
   "id": "8a9e327f-18df-4ab0-928e-272cb6295e3a",
   "metadata": {},
   "source": [
    "# number in python "
   ]
  },
  {
   "cell_type": "markdown",
   "id": "71ffb6d0-c383-4856-a30f-05f8a30d2079",
   "metadata": {},
   "source": [
    "# arithmetic_Operation on integers "
   ]
  },
  {
   "cell_type": "code",
   "execution_count": 1,
   "id": "e55d45e1-48cb-4a70-b3b4-20cf6289ce41",
   "metadata": {},
   "outputs": [],
   "source": [
    "\n",
    "\n",
    "a=2 #integer \n",
    "b=4 #integer \n",
    "\n",
    "\n",
    "\n",
    "\n"
   ]
  },
  {
   "cell_type": "code",
   "execution_count": 5,
   "id": "17244f83-7e9e-4d1a-93bd-8950a6d7885d",
   "metadata": {},
   "outputs": [
    {
     "name": "stdout",
     "output_type": "stream",
     "text": [
      "6\n"
     ]
    }
   ],
   "source": [
    "#addition operation of float \n",
    "print(a+b) "
   ]
  },
  {
   "cell_type": "code",
   "execution_count": null,
   "id": "642506c6-4c9a-41ff-a671-7ba08716b162",
   "metadata": {},
   "outputs": [],
   "source": [
    "#subtraction  operation of float\n",
    "print(a-b) \n"
   ]
  },
  {
   "cell_type": "code",
   "execution_count": null,
   "id": "dba43702-0d0c-48dc-a9cf-2011a7802b4a",
   "metadata": {},
   "outputs": [],
   "source": [
    "#multiplication  operation of float\n",
    "print(a*b)"
   ]
  },
  {
   "cell_type": "code",
   "execution_count": null,
   "id": "d67ce300-2a49-47f5-8247-fa3916e75319",
   "metadata": {},
   "outputs": [],
   "source": [
    "#division  operation of float\n",
    "print(a/b)"
   ]
  },
  {
   "cell_type": "markdown",
   "id": "9debe575-f51e-445d-acfd-64c258dcd9ab",
   "metadata": {},
   "source": [
    "#arithmetic_operation_on_float\n"
   ]
  },
  {
   "cell_type": "code",
   "execution_count": null,
   "id": "235827c3-842d-4c0f-99f7-1dccd0c235c9",
   "metadata": {},
   "outputs": [],
   "source": [
    "a=4.5\n",
    "b=2.2\n",
    "\n",
    "\n",
    "\n",
    "\n",
    "\n"
   ]
  },
  {
   "cell_type": "code",
   "execution_count": null,
   "id": "c67ce0f7-25ff-4193-bf07-ed64e30bf0c2",
   "metadata": {},
   "outputs": [],
   "source": [
    "#addition operation of float \n",
    "print(a+b) \n"
   ]
  },
  {
   "cell_type": "code",
   "execution_count": null,
   "id": "3b7b6329-25aa-4d8b-b865-f8b6199af740",
   "metadata": {},
   "outputs": [],
   "source": [
    "#subtraction  operation of float\n",
    "print(a-b) "
   ]
  },
  {
   "cell_type": "code",
   "execution_count": null,
   "id": "a1eebb0c-3729-4046-93c7-8c7554f06b12",
   "metadata": {},
   "outputs": [],
   "source": [
    "#multiplication  operation of float\n",
    "print(a*b)"
   ]
  },
  {
   "cell_type": "code",
   "execution_count": null,
   "id": "6d3ce118-6e80-414f-ada6-c8e5b409d1a9",
   "metadata": {},
   "outputs": [],
   "source": [
    "\n",
    "#division  operation of float\n",
    "print(a/b)"
   ]
  },
  {
   "cell_type": "markdown",
   "id": "f90ffea1-5714-46a0-8d9c-b588dc38bbfd",
   "metadata": {},
   "source": [
    "#complex_no"
   ]
  },
  {
   "cell_type": "code",
   "execution_count": null,
   "id": "b567b486-7fee-4ffe-8c5d-d065dbfc98c3",
   "metadata": {},
   "outputs": [],
   "source": [
    "z = complex(3, 2)\n",
    "w=complex(4,3)\n"
   ]
  },
  {
   "cell_type": "code",
   "execution_count": null,
   "id": "f1cbddd2-ad4d-4d8a-b860-748578084ae5",
   "metadata": {},
   "outputs": [],
   "source": [
    "# add of complex\n",
    "print(z+w)  "
   ]
  }
 ],
 "metadata": {
  "kernelspec": {
   "display_name": "Python 3 (ipykernel)",
   "language": "python",
   "name": "python3"
  },
  "language_info": {
   "codemirror_mode": {
    "name": "ipython",
    "version": 3
   },
   "file_extension": ".py",
   "mimetype": "text/x-python",
   "name": "python",
   "nbconvert_exporter": "python",
   "pygments_lexer": "ipython3",
   "version": "3.12.7"
  }
 },
 "nbformat": 4,
 "nbformat_minor": 5
}
