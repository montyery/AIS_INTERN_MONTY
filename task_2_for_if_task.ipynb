{
 "cells": [
  {
   "cell_type": "markdown",
   "id": "98aee0d8-8e61-45de-aa38-aa5e861d5ff3",
   "metadata": {},
   "source": [
    "#Given a list, write a Python code  to swap first and last element of the list.\n"
   ]
  },
  {
   "cell_type": "code",
   "execution_count": 3,
   "id": "9ea0287c-7a71-4bc0-b0f8-0874c053b62b",
   "metadata": {},
   "outputs": [
    {
     "name": "stdout",
     "output_type": "stream",
     "text": [
      "[1, 2, 3, 4, 5, 6, 7, 8]\n",
      "[8, 2, 3, 4, 5, 6, 7, 1]\n"
     ]
    }
   ],
   "source": [
    "num=[1,2,3,4,5,6,7,8]\n",
    "print(num)\n",
    "num[0],num[-1]=num[-1],num[0]\n",
    "print(num)"
   ]
  },
  {
   "cell_type": "markdown",
   "id": "e4d97313-26f7-433c-b017-4fe4b0bdea6f",
   "metadata": {},
   "source": [
    "write code count lenght of string"
   ]
  },
  {
   "cell_type": "code",
   "execution_count": 9,
   "id": "804e69f7-f848-4460-9d23-e624e4141f94",
   "metadata": {},
   "outputs": [
    {
     "name": "stdout",
     "output_type": "stream",
     "text": [
      "8\n",
      "5\n"
     ]
    }
   ],
   "source": [
    "name=\"monty\"\n",
    "\n",
    "w=[1,2,3,4,6,7,8,0]\n",
    "print(len(w))\n",
    "print(len(name))"
   ]
  },
  {
   "cell_type": "markdown",
   "id": "ed1bb27e-6d0c-4941-9817-4009cb37eecb",
   "metadata": {},
   "source": [
    "#Write a Python program to get the sum of a only non-negative integer. ex, [1,4,-5,-20,10] ans is 15"
   ]
  },
  {
   "cell_type": "code",
   "execution_count": 53,
   "id": "40234dfb-a7e8-4c66-9930-8371b1bd4b2a",
   "metadata": {},
   "outputs": [
    {
     "name": "stdout",
     "output_type": "stream",
     "text": [
      "15\n"
     ]
    }
   ],
   "source": [
    "num=[1,4,-5,-20,10]\n",
    "val=0\n",
    "\n",
    "for i in num:\n",
    "    if i>=0:\n",
    "        val += i\n",
    "print(val)\n",
    "    \n",
    "    \n",
    "    "
   ]
  },
  {
   "cell_type": "markdown",
   "id": "67f83686-7c2b-43aa-a5fd-f644a9cae15e",
   "metadata": {},
   "source": [
    "#write code of factorial , ex.ans 6 (3*2*1)"
   ]
  },
  {
   "cell_type": "code",
   "execution_count": 75,
   "id": "b28ae935-e194-4330-9c29-1ae602fb211c",
   "metadata": {},
   "outputs": [
    {
     "name": "stdout",
     "output_type": "stream",
     "text": [
      "6\n"
     ]
    }
   ],
   "source": [
    "n=3\n",
    "res=1\n",
    "for i in range(1,n+1):\n",
    "    res *=i\n",
    "print(res)"
   ]
  },
  {
   "cell_type": "code",
   "execution_count": null,
   "id": "55c3af95-b787-41d3-9d9f-4dd4c743ba13",
   "metadata": {},
   "outputs": [],
   "source": []
  }
 ],
 "metadata": {
  "kernelspec": {
   "display_name": "Python 3 (ipykernel)",
   "language": "python",
   "name": "python3"
  },
  "language_info": {
   "codemirror_mode": {
    "name": "ipython",
    "version": 3
   },
   "file_extension": ".py",
   "mimetype": "text/x-python",
   "name": "python",
   "nbconvert_exporter": "python",
   "pygments_lexer": "ipython3",
   "version": "3.12.7"
  }
 },
 "nbformat": 4,
 "nbformat_minor": 5
}
