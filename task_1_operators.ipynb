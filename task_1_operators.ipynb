{
 "cells": [
  {
   "cell_type": "markdown",
   "id": "8c67d1bd-4d5a-4de1-8772-df6f58e13ec8",
   "metadata": {},
   "source": [
    "# operators "
   ]
  },
  {
   "cell_type": "markdown",
   "id": "9d874ef3-23d2-458a-b9b4-e921113369f1",
   "metadata": {},
   "source": [
    " # comparision"
   ]
  },
  {
   "cell_type": "code",
   "execution_count": 1,
   "id": "8aa12e9e-c3ab-4fce-a482-573fe9623921",
   "metadata": {},
   "outputs": [
    {
     "name": "stdout",
     "output_type": "stream",
     "text": [
      "False\n",
      "True\n",
      "True\n",
      "True\n"
     ]
    }
   ],
   "source": [
    "\n",
    "\n",
    "a=9\n",
    "b=6\n",
    "\n",
    "\n"
   ]
  },
  {
   "cell_type": "code",
   "execution_count": null,
   "id": "bfeb6b85-36bc-4423-8d55-053b1c3ae529",
   "metadata": {},
   "outputs": [],
   "source": [
    " # comparision\n",
    "print(a<b) "
   ]
  },
  {
   "cell_type": "markdown",
   "id": "abc87a27-e5e2-4101-8bb2-381722a701ab",
   "metadata": {},
   "source": [
    "# greater comparision"
   ]
  },
  {
   "cell_type": "code",
   "execution_count": null,
   "id": "84684a40-af03-4a77-8ead-5d2b4d03de4c",
   "metadata": {},
   "outputs": [],
   "source": [
    "\n",
    "a=9\n",
    "b=6\n",
    "\n",
    "\n",
    "\n"
   ]
  },
  {
   "cell_type": "code",
   "execution_count": null,
   "id": "71aeac8f-6636-490d-ac13-c9fab00165ea",
   "metadata": {},
   "outputs": [],
   "source": [
    "# greater comparision\n",
    "print(a>b) "
   ]
  },
  {
   "cell_type": "markdown",
   "id": "7872b642-bea4-4e15-b93f-3876720360fb",
   "metadata": {},
   "source": [
    "# comparision of not =="
   ]
  },
  {
   "cell_type": "code",
   "execution_count": null,
   "id": "273ad6ce-9a70-4bce-8d3b-b2fa86d2cd70",
   "metadata": {},
   "outputs": [],
   "source": [
    "\n",
    "a=9\n",
    "b=6\n",
    "\n",
    "\n",
    "\n",
    "c=10\n",
    "d=10\n",
    "\n"
   ]
  },
  {
   "cell_type": "code",
   "execution_count": null,
   "id": "0472ece2-880a-451f-a6f9-36f2a6d7df6e",
   "metadata": {},
   "outputs": [],
   "source": [
    "# comparision of not ==\n",
    "print(a!=b) "
   ]
  },
  {
   "cell_type": "markdown",
   "id": "a567b336-076d-4ae7-9b44-3cb8e7cd511f",
   "metadata": {},
   "source": [
    "# comparision of =="
   ]
  },
  {
   "cell_type": "code",
   "execution_count": null,
   "id": "0f89f20e-8295-44fc-aca8-61dc9ccf6ac7",
   "metadata": {},
   "outputs": [],
   "source": [
    "\n",
    "a=9\n",
    "b=6\n",
    "c=10\n",
    "d=10\n",
    "# comparision of ==\n",
    "print(c==d) "
   ]
  }
 ],
 "metadata": {
  "kernelspec": {
   "display_name": "Python 3 (ipykernel)",
   "language": "python",
   "name": "python3"
  },
  "language_info": {
   "codemirror_mode": {
    "name": "ipython",
    "version": 3
   },
   "file_extension": ".py",
   "mimetype": "text/x-python",
   "name": "python",
   "nbconvert_exporter": "python",
   "pygments_lexer": "ipython3",
   "version": "3.12.7"
  }
 },
 "nbformat": 4,
 "nbformat_minor": 5
}
