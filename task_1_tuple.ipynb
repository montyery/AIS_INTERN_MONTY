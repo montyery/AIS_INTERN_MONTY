{
 "cells": [
  {
   "cell_type": "markdown",
   "id": "eadb07d3-6447-4c89-a6b8-35f80bfb467e",
   "metadata": {},
   "source": [
    "#tuple "
   ]
  },
  {
   "cell_type": "markdown",
   "id": "df114ac9-a42f-42b3-9458-8b53a3eedd53",
   "metadata": {},
   "source": [
    " #  reading tuple"
   ]
  },
  {
   "cell_type": "code",
   "execution_count": 1,
   "id": "5bde49b3-5ba2-40ee-8621-980b30f8a1e8",
   "metadata": {},
   "outputs": [
    {
     "name": "stdout",
     "output_type": "stream",
     "text": [
      "('apple', 'banana', 'cherry')\n",
      "apple\n",
      "(1, 2, 3, 4)\n",
      "2\n",
      "('dog', 'cat', 'cow', 'lion', 'tiger', 'elephant')\n",
      "(10, 20, 30, 10, 20, 30, 10, 20, 30, 10, 20, 30, 10, 20, 30)\n"
     ]
    }
   ],
   "source": [
    "fruits = (\"apple\", \"banana\", \"cherry\")\n",
    "print(fruits) #  reading tuple "
   ]
  },
  {
   "cell_type": "markdown",
   "id": "0f592c19-7b41-4c0d-998e-d4651623bd02",
   "metadata": {},
   "source": [
    "# accessing single element of tuple"
   ]
  },
  {
   "cell_type": "code",
   "execution_count": null,
   "id": "7b624b59-022f-4ded-aefb-9c0494faa03a",
   "metadata": {},
   "outputs": [],
   "source": [
    "fruits = (\"apple\", \"banana\", \"cherry\")\n",
    "print(fruits[0])# accessing single element of tuple"
   ]
  },
  {
   "cell_type": "markdown",
   "id": "4c102e7a-f3cd-4dfe-bd8f-90337ae551fe",
   "metadata": {},
   "source": [
    "# accessing index"
   ]
  },
  {
   "cell_type": "code",
   "execution_count": null,
   "id": "77e18dc1-3271-4e8b-821e-082a8cd1ecb1",
   "metadata": {},
   "outputs": [],
   "source": [
    "num= (1, 2, 3, 4, 5, 6, 7, 8, 9, 10)\n",
    "print(num[:4])\n",
    "print(num.index(3)) # accessing index"
   ]
  },
  {
   "cell_type": "markdown",
   "id": "8f94adf5-4de2-4aa2-9a03-e81d7fdec95c",
   "metadata": {},
   "source": [
    " # adding tuple "
   ]
  },
  {
   "cell_type": "code",
   "execution_count": null,
   "id": "cf3aead8-5f1a-47b7-92c7-e71d4faf77c2",
   "metadata": {},
   "outputs": [],
   "source": [
    "d_animal=(\"dog\",\"cat\",\"cow\")\n",
    "w_animal=(\"lion\",\"tiger\",\"elephant\")\n",
    "print(d_animal + w_animal) # adding tuple \n"
   ]
  },
  {
   "cell_type": "markdown",
   "id": "0462c589-94ce-49c0-af51-d328cdda8d98",
   "metadata": {},
   "source": [
    "# repetition "
   ]
  },
  {
   "cell_type": "code",
   "execution_count": null,
   "id": "fbb44262-b551-4644-b941-e9b3b77c48ed",
   "metadata": {},
   "outputs": [],
   "source": [
    "num_tuple = (10, 20, 30) * 5\n",
    "print(num_tuple) # repetition "
   ]
  }
 ],
 "metadata": {
  "kernelspec": {
   "display_name": "Python 3 (ipykernel)",
   "language": "python",
   "name": "python3"
  },
  "language_info": {
   "codemirror_mode": {
    "name": "ipython",
    "version": 3
   },
   "file_extension": ".py",
   "mimetype": "text/x-python",
   "name": "python",
   "nbconvert_exporter": "python",
   "pygments_lexer": "ipython3",
   "version": "3.12.7"
  }
 },
 "nbformat": 4,
 "nbformat_minor": 5
}
